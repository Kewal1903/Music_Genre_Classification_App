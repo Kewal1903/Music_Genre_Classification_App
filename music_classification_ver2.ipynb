{
 "cells": [
  {
   "cell_type": "markdown",
   "metadata": {},
   "source": [
    "## MODULE 1: Import Necessary Libraries"
   ]
  },
  {
   "cell_type": "code",
   "execution_count": 99,
   "metadata": {},
   "outputs": [],
   "source": [
    "# Module 1: Import Libraries\n",
    "\n",
    "# Audio processing\n",
    "import librosa\n",
    "import librosa.display\n",
    "\n",
    "# Numerical operations\n",
    "import numpy as np\n",
    "import pandas as pd\n",
    "\n",
    "# File and directory operations\n",
    "import os\n",
    "import glob\n",
    "from concurrent.futures import ThreadPoolExecutor\n",
    "import joblib\n",
    "\n",
    "# Data preprocessing and machine learning\n",
    "from sklearn.model_selection import train_test_split\n",
    "from sklearn.preprocessing import StandardScaler, LabelEncoder\n",
    "from sklearn.linear_model import LogisticRegression\n",
    "from sklearn.neighbors import KNeighborsClassifier\n",
    "from sklearn.ensemble import VotingClassifier\n",
    "from sklearn.svm import SVC\n",
    "from sklearn.ensemble import RandomForestClassifier\n",
    "from sklearn.metrics import accuracy_score, classification_report, confusion_matrix\n",
    "from skimage.transform import resize\n",
    "from sklearn.model_selection import GridSearchCV\n",
    "from xgboost import XGBClassifier\n",
    "\n",
    "# Deep learning (TensorFlow/Keras)\n",
    "import tensorflow as tf\n",
    "from tensorflow.keras.models import Sequential\n",
    "from tensorflow.keras.layers import Conv2D, MaxPooling2D, Flatten, Dense, Dropout, BatchNormalization, GlobalAveragePooling2D\n",
    "from tensorflow.keras.utils import to_categorical\n",
    "from tensorflow.keras.utils import Sequence\n",
    "from tensorflow.keras.optimizers import Adam\n",
    "from tensorflow.keras.models import load_model\n",
    "from scikeras.wrappers import KerasClassifier\n",
    "\n",
    "# Visualization\n",
    "import matplotlib.pyplot as plt\n",
    "import seaborn as sns\n",
    "%matplotlib inline\n",
    "from scipy.ndimage import gaussian_filter\n",
    "from matplotlib import cm\n",
    "\n",
    "# IPython utilities for displaying audio/visuals in notebooks\n",
    "from IPython.display import Audio, display\n",
    "\n",
    "# Suppress warnings for cleaner output\n",
    "import warnings\n",
    "warnings.filterwarnings(\"ignore\")"
   ]
  },
  {
   "cell_type": "markdown",
   "metadata": {},
   "source": [
    "## MODULE 2: Load the Dataset"
   ]
  },
  {
   "cell_type": "code",
   "execution_count": 2,
   "metadata": {},
   "outputs": [
    {
     "name": "stdout",
     "output_type": "stream",
     "text": [
      "Total valid audio files found: 999\n",
      "Example file path: D:\\\\COMPUTER SCIENCE\\\\PYTHON\\\\MACHINE LEARNING LAB\\\\MINI PROJECT\\\\GTZAN\\\\GTZAN dataset\\\\genres_original\\blues\\blues.00000.wav\n",
      "Example label: blues\n"
     ]
    }
   ],
   "source": [
    "# Module 2: Load Dataset\n",
    "\n",
    "def load_dataset(data_path):\n",
    "    \"\"\"\n",
    "    Load file paths and labels from the GTZAN dataset, skipping missing/corrupted files (jazz.00054.wav).\n",
    "    \n",
    "    Args:\n",
    "        data_path (str): Path to the 'genres_original' directory.\n",
    "        \n",
    "    Returns:\n",
    "        file_paths (list): Valid audio file paths.\n",
    "        labels (list): Corresponding genre labels.\n",
    "    \"\"\"\n",
    "    file_paths = []\n",
    "    labels = []\n",
    "    genres = ['blues', 'classical', 'country', 'disco', 'hiphop', 'jazz', 'metal', 'pop', 'reggae', 'rock']\n",
    "    \n",
    "    for genre in genres:\n",
    "        genre_dir = os.path.join(data_path, genre)\n",
    "        \n",
    "        # Skip if genre directory doesn't exist\n",
    "        if not os.path.isdir(genre_dir):\n",
    "            print(f\"Skipping invalid genre directory: {genre_dir}\")\n",
    "            continue\n",
    "        \n",
    "        # Collect valid .wav files\n",
    "        for file in os.listdir(genre_dir):\n",
    "            file_path = os.path.join(genre_dir, file)\n",
    "            \n",
    "            # Skip non-WAV files or missing files\n",
    "            if not file.endswith(\".wav\") or not os.path.exists(file_path):\n",
    "                continue\n",
    "                \n",
    "            file_paths.append(file_path)\n",
    "            labels.append(genre)\n",
    "    \n",
    "    print(f\"Total valid audio files found: {len(file_paths)}\")\n",
    "    return file_paths, labels\n",
    "\n",
    "# Define path to your dataset\n",
    "data_path = r\"D:\\\\COMPUTER SCIENCE\\\\PYTHON\\\\MACHINE LEARNING LAB\\\\MINI PROJECT\\\\GTZAN\\\\GTZAN dataset\\\\genres_original\"\n",
    "\n",
    "# Load data\n",
    "file_paths, labels = load_dataset(data_path)\n",
    "\n",
    "# Verify\n",
    "print(f\"Example file path: {file_paths[0]}\")\n",
    "print(f\"Example label: {labels[0]}\")"
   ]
  },
  {
   "cell_type": "markdown",
   "metadata": {},
   "source": [
    "## MODULE 3: Augmentation + Feature Extraction"
   ]
  },
  {
   "cell_type": "markdown",
   "metadata": {},
   "source": [
    "### SUB-MODULE 3.1: Create Directories for Augmented Features"
   ]
  },
  {
   "cell_type": "code",
   "execution_count": 3,
   "metadata": {},
   "outputs": [
    {
     "name": "stdout",
     "output_type": "stream",
     "text": [
      "Directories created successfully!\n"
     ]
    }
   ],
   "source": [
    "# Module 3.1: Create Directories\n",
    "\n",
    "base_dir = \"features/with_aug\"\n",
    "os.makedirs(base_dir, exist_ok=True)\n",
    "\n",
    "# Create spectrogram directories\n",
    "for folder in [\"grayscale\", \"rgb\", \"npy\"]:\n",
    "    folder_path = os.path.join(base_dir, folder)\n",
    "    os.makedirs(folder_path, exist_ok=True)\n",
    "\n",
    "print(\"Directories created successfully!\")"
   ]
  },
  {
   "cell_type": "markdown",
   "metadata": {},
   "source": [
    "### SUB-MODULE 3.2: Augmentation Functions"
   ]
  },
  {
   "cell_type": "code",
   "execution_count": 4,
   "metadata": {},
   "outputs": [],
   "source": [
    "# Module 3.2: Define Augmentation Functions\n",
    "\n",
    "def time_stretch(y, rate=1.0):\n",
    "    try:\n",
    "        return librosa.effects.time_stretch(y, rate=rate)\n",
    "    except:\n",
    "        return y\n",
    "\n",
    "def pitch_shift(y, sr, n_steps=0):\n",
    "    try:\n",
    "        return librosa.effects.pitch_shift(y, sr, n_steps=n_steps)\n",
    "    except:\n",
    "        return y\n",
    "\n",
    "def add_noise(y, noise_factor=0.005):\n",
    "    noise = np.random.randn(len(y))\n",
    "    augmented_data = y + noise_factor * noise\n",
    "    augmented_data = augmented_data.astype(type(y[0]))\n",
    "    return augmented_data\n",
    "\n",
    "def time_shift(y, shift_max=0.2):\n",
    "    shift = int(np.random.uniform(-shift_max, shift_max) * len(y))\n",
    "    return np.roll(y, shift)"
   ]
  },
  {
   "cell_type": "markdown",
   "metadata": {},
   "source": [
    "### SUB-MODULE 3.3: Feature Extraction Function"
   ]
  },
  {
   "cell_type": "code",
   "execution_count": 5,
   "metadata": {},
   "outputs": [],
   "source": [
    "# Module 3.3: Extract Handcrafted Features\n",
    "\n",
    "def extract_features(y, sr):\n",
    "    # MFCCs (40 coefficients)\n",
    "    mfccs = np.mean(librosa.feature.mfcc(y=y, sr=sr, n_mfcc=40).T, axis=0)\n",
    "    \n",
    "    # Chroma STFT\n",
    "    chroma = np.mean(librosa.feature.chroma_stft(y=y, sr=sr).T, axis=0)\n",
    "    \n",
    "    # Spectral Contrast\n",
    "    spectral_contrast = np.mean(librosa.feature.spectral_contrast(y=y, sr=sr).T, axis=0)\n",
    "    \n",
    "    # Tonnetz (tonal centroid features)\n",
    "    tonnetz = np.mean(librosa.feature.tonnetz(y=librosa.effects.harmonic(y), sr=sr).T, axis=0)\n",
    "    \n",
    "    return np.hstack([mfccs, chroma, spectral_contrast, tonnetz])"
   ]
  },
  {
   "cell_type": "markdown",
   "metadata": {},
   "source": [
    "### SUB-MODULE 3.4: Spectrogram Generation and Saving"
   ]
  },
  {
   "cell_type": "code",
   "execution_count": 6,
   "metadata": {},
   "outputs": [],
   "source": [
    "# Module 3.4: Generate and Save Spectrograms (Corrected)\n",
    "\n",
    "def generate_and_save_spectrogram(y, sr, original_filename, output_dir, aug_suffix=\"\"):\n",
    "    \"\"\"\n",
    "    Generate mel-spectrogram, save as true grayscale and RGB (YlGnBu) versions.\n",
    "    \"\"\"\n",
    "    # Generate mel-spectrogram\n",
    "    spectrogram = librosa.feature.melspectrogram(y=y, sr=sr, n_mels=256, n_fft=4096, hop_length=256)\n",
    "    spectrogram_db = librosa.power_to_db(spectrogram, ref=np.max)\n",
    "    \n",
    "    # Normalize to [0, 1]\n",
    "    spectrogram_normalized = (spectrogram_db - np.min(spectrogram_db)) / (\n",
    "        np.max(spectrogram_db) - np.min(spectrogram_db)\n",
    "    )\n",
    "    spectrogram_normalized = np.nan_to_num(spectrogram_normalized)  # Handle NaNs\n",
    "    \n",
    "    # Save .npy (raw data)\n",
    "    npy_filename = f\"{original_filename}{aug_suffix}.npy\"\n",
    "    np.save(os.path.join(output_dir, \"npy\", npy_filename), spectrogram_db)\n",
    "    \n",
    "    # Save true grayscale (single-channel)\n",
    "    grayscale_filename = f\"{original_filename}{aug_suffix}.png\"\n",
    "    plt.imsave(\n",
    "        os.path.join(output_dir, \"grayscale\", grayscale_filename),\n",
    "        spectrogram_normalized,\n",
    "        cmap='gray'  # Corrected to true grayscale\n",
    "    )\n",
    "    \n",
    "    # Save RGB (YlGnBu colormap)\n",
    "    cmap = plt.get_cmap('YlGnBu')\n",
    "    spectrogram_rgb = (cmap(spectrogram_normalized)[:, :, :3] * 255).astype(np.uint8)\n",
    "    rgb_filename = f\"{original_filename}{aug_suffix}.png\"\n",
    "    plt.imsave(\n",
    "        os.path.join(output_dir, \"rgb\", rgb_filename),\n",
    "        spectrogram_rgb\n",
    "    )"
   ]
  },
  {
   "cell_type": "markdown",
   "metadata": {},
   "source": [
    "### SUB-MODULE 3.5: Main Loop"
   ]
  },
  {
   "cell_type": "code",
   "execution_count": 7,
   "metadata": {},
   "outputs": [],
   "source": [
    "# Module 3.5: Process Files with Augmentation\n",
    "\n",
    "def process_file(file_path, label, output_dir):\n",
    "    try:\n",
    "        # Load audio\n",
    "        y, sr = librosa.load(file_path, sr=None, mono=True)\n",
    "        y = librosa.resample(y, orig_sr=sr, target_sr=22050)  # Standardize sampling rate\n",
    "        \n",
    "        # Extract original features and save spectrogram\n",
    "        original_filename = os.path.splitext(os.path.basename(file_path))[0]\n",
    "        generate_and_save_spectrogram(y, 22050, original_filename, output_dir, aug_suffix=\"_original\")\n",
    "        original_features = extract_features(y, 22050)\n",
    "        \n",
    "        # Generate augmented versions (5 per file)\n",
    "        augmented_features = []\n",
    "        for i in range(5):\n",
    "            # Apply random augmentations\n",
    "            y_aug = y.copy()\n",
    "            y_aug = time_stretch(y_aug, rate=np.random.uniform(0.8, 1.2))\n",
    "            y_aug = pitch_shift(y_aug, 22050, n_steps=np.random.randint(-3, 4))\n",
    "            y_aug = add_noise(y_aug, noise_factor=np.random.uniform(0.001, 0.01))\n",
    "            \n",
    "            # Save spectrogram and extract features\n",
    "            aug_suffix = f\"_aug{i+1}\"\n",
    "            generate_and_save_spectrogram(y_aug, 22050, original_filename, output_dir, aug_suffix)\n",
    "            aug_features = extract_features(y_aug, 22050)\n",
    "            augmented_features.append(aug_features)\n",
    "        \n",
    "        # Combine original + augmented features\n",
    "        all_features = [original_features] + augmented_features\n",
    "        all_labels = [label] * len(all_features)\n",
    "        \n",
    "        return all_features, all_labels\n",
    "    \n",
    "    except Exception as e:\n",
    "        print(f\"Error processing {file_path}: {str(e)}\")\n",
    "        return [], []"
   ]
  },
  {
   "cell_type": "markdown",
   "metadata": {},
   "source": [
    "### SUB-MODULE 3.6: Run Augmentation and Feature Extraction"
   ]
  },
  {
   "cell_type": "code",
   "execution_count": 9,
   "metadata": {},
   "outputs": [
    {
     "name": "stdout",
     "output_type": "stream",
     "text": [
      "Total augmented features: 5994\n"
     ]
    }
   ],
   "source": [
    "# Module 3.6: Execute Parallel Processing\n",
    "\n",
    "output_dir = \"features/with_aug\"\n",
    "features = []\n",
    "labels_augmented = []\n",
    "\n",
    "# Use ThreadPoolExecutor for parallel processing\n",
    "with ThreadPoolExecutor(max_workers=4) as executor:\n",
    "    futures = []\n",
    "    for fp, lbl in zip(file_paths, labels):\n",
    "        future = executor.submit(process_file, fp, lbl, output_dir)\n",
    "        futures.append(future)\n",
    "    \n",
    "    for future in futures:\n",
    "        feats, lbls = future.result()\n",
    "        if feats:\n",
    "            features.extend(feats)\n",
    "            labels_augmented.extend(lbls)\n",
    "\n",
    "# Convert to NumPy arrays\n",
    "X = np.array(features)\n",
    "y = np.array(labels_augmented)\n",
    "\n",
    "print(f\"Total augmented features: {X.shape[0]}\")"
   ]
  },
  {
   "cell_type": "markdown",
   "metadata": {},
   "source": [
    "### SUB-MODULE 3.7: Save Augmented Features to CSV"
   ]
  },
  {
   "cell_type": "code",
   "execution_count": 11,
   "metadata": {},
   "outputs": [
    {
     "name": "stdout",
     "output_type": "stream",
     "text": [
      "Features saved to 'features/with_aug/augmented_features.csv'\n"
     ]
    }
   ],
   "source": [
    "# Module 3.7: Save Features\n",
    "\n",
    "df_augmented = pd.DataFrame(X)\n",
    "df_augmented['label'] = y\n",
    "df_augmented.to_csv(os.path.join(output_dir, \"augmented_features.csv\"), index=False)\n",
    "print(\"Features saved to 'features/with_aug/augmented_features.csv'\")"
   ]
  },
  {
   "cell_type": "markdown",
   "metadata": {},
   "source": [
    "## MODULE 4: Data Preparation"
   ]
  },
  {
   "cell_type": "markdown",
   "metadata": {},
   "source": [
    "This module prepares the data for ML and DL models"
   ]
  },
  {
   "cell_type": "markdown",
   "metadata": {},
   "source": [
    "### SUB-MODULE 4.1: Traditional ML Data Preparation"
   ]
  },
  {
   "cell_type": "markdown",
   "metadata": {},
   "source": [
    "1. Load Features"
   ]
  },
  {
   "cell_type": "code",
   "execution_count": 8,
   "metadata": {},
   "outputs": [],
   "source": [
    "df = pd.read_csv(\"features/with_aug/augmented_features.csv\")\n",
    "X_ml = df.drop(\"label\", axis=1).values  # Features\n",
    "y_ml = df[\"label\"].values  # Labels"
   ]
  },
  {
   "cell_type": "markdown",
   "metadata": {},
   "source": [
    "2. Encode Labels"
   ]
  },
  {
   "cell_type": "code",
   "execution_count": 41,
   "metadata": {},
   "outputs": [],
   "source": [
    "label_encoder_ml = LabelEncoder()\n",
    "y_ml_encoded = label_encoder_ml.fit_transform(y_ml)"
   ]
  },
  {
   "cell_type": "markdown",
   "metadata": {},
   "source": [
    "3. Split Data"
   ]
  },
  {
   "cell_type": "code",
   "execution_count": 10,
   "metadata": {},
   "outputs": [],
   "source": [
    "X_train_ml, X_test_ml, y_train_ml, y_test_ml = train_test_split(\n",
    "    X_ml, y_ml_encoded, test_size=0.2, stratify=y_ml_encoded, random_state=42\n",
    ")"
   ]
  },
  {
   "cell_type": "markdown",
   "metadata": {},
   "source": [
    "4. Normalize Features"
   ]
  },
  {
   "cell_type": "code",
   "execution_count": 11,
   "metadata": {},
   "outputs": [],
   "source": [
    "scaler = StandardScaler()\n",
    "X_train_ml = scaler.fit_transform(X_train_ml)\n",
    "X_test_ml = scaler.transform(X_test_ml)"
   ]
  },
  {
   "cell_type": "code",
   "execution_count": 142,
   "metadata": {},
   "outputs": [
    {
     "data": {
      "text/plain": [
       "['models/scaler.joblib']"
      ]
     },
     "execution_count": 142,
     "metadata": {},
     "output_type": "execute_result"
    }
   ],
   "source": [
    "joblib.dump(scaler, 'models/scaler.joblib')"
   ]
  },
  {
   "cell_type": "markdown",
   "metadata": {},
   "source": [
    "### SUB-MODULE 4.2: DL Data Preparation"
   ]
  },
  {
   "cell_type": "markdown",
   "metadata": {},
   "source": [
    "1. Load and File paths and Lables :"
   ]
  },
  {
   "cell_type": "code",
   "execution_count": 8,
   "metadata": {},
   "outputs": [
    {
     "name": "stdout",
     "output_type": "stream",
     "text": [
      "Train files: 4795\n",
      "Test files: 1199\n"
     ]
    }
   ],
   "source": [
    "# Module 4.2.1: Load File Paths and Labels\n",
    "\n",
    "def get_file_paths_and_labels(data_dir):\n",
    "    file_paths = []\n",
    "    labels = []\n",
    "    for file in os.listdir(data_dir):\n",
    "        if file.endswith(\".npy\"):\n",
    "            genre = file.split(\".\")[0]  # Extract genre from filename (e.g., \"blues.00001_aug1.npy\" → \"blues\")\n",
    "            file_paths.append(os.path.join(data_dir, file))\n",
    "            labels.append(genre)\n",
    "    return file_paths, labels\n",
    "\n",
    "# Define path to spectrograms\n",
    "data_dir = \"features/with_aug/npy\"\n",
    "\n",
    "# Load file paths and labels\n",
    "file_paths_dl, labels_dl = get_file_paths_and_labels(data_dir)\n",
    "\n",
    "# Encode labels\n",
    "label_encoder_dl = LabelEncoder()\n",
    "y_dl_encoded = label_encoder_dl.fit_transform(labels_dl)\n",
    "\n",
    "# Split into train/test\n",
    "X_train_files, X_test_files, y_train_files, y_test_files = train_test_split(\n",
    "    file_paths_dl, y_dl_encoded, test_size=0.2, stratify=y_dl_encoded, random_state=42\n",
    ")\n",
    "\n",
    "print(f\"Train files: {len(X_train_files)}\")\n",
    "print(f\"Test files: {len(X_test_files)}\")"
   ]
  },
  {
   "cell_type": "markdown",
   "metadata": {},
   "source": [
    "2. Define a Data Generator"
   ]
  },
  {
   "cell_type": "markdown",
   "metadata": {},
   "source": [
    "This generator loads spectrograms in batches during training to avoid memory issues."
   ]
  },
  {
   "cell_type": "code",
   "execution_count": 32,
   "metadata": {},
   "outputs": [],
   "source": [
    "# Module 4.2.2: Spectrogram Data Generator\n",
    "# Updated Spectrogram Generator with Online Augmentation\n",
    "\n",
    "def apply_spectrogram_augmentation(spectrogram):\n",
    "    \"\"\"\n",
    "    Apply time masking and frequency masking to a spectrogram.\n",
    "    \n",
    "    Args:\n",
    "        spectrogram (np.array): Input spectrogram of shape (height, width).\n",
    "        \n",
    "    Returns:\n",
    "        np.array: Augmented spectrogram.\n",
    "    \"\"\"\n",
    "    # Time Masking\n",
    "    mask_time = np.random.randint(0, spectrogram.shape[1] // 20)  # Mask up to 5% of time frames\n",
    "    start_time = np.random.randint(0, spectrogram.shape[1] - mask_time)\n",
    "    spectrogram[:, start_time:start_time + mask_time] = 0\n",
    "\n",
    "    # Frequency Masking\n",
    "    mask_freq = np.random.randint(0, spectrogram.shape[0] // 20)  # Mask up to 5% of frequency bins\n",
    "    start_freq = np.random.randint(0, spectrogram.shape[0] - mask_freq)\n",
    "    spectrogram[start_freq:start_freq + mask_freq, :] = 0\n",
    "\n",
    "    return spectrogram\n",
    "\n",
    "class SpectrogramGenerator(Sequence):\n",
    "    def __init__(self, file_paths, labels, batch_size, target_frames=1293, augment=False):\n",
    "        self.file_paths = file_paths\n",
    "        self.labels = labels\n",
    "        self.batch_size = batch_size\n",
    "        self.target_frames = target_frames\n",
    "        self.augment = augment\n",
    "\n",
    "    def __len__(self):\n",
    "        return int(np.ceil(len(self.file_paths) / self.batch_size))\n",
    "\n",
    "    def __getitem__(self, idx):\n",
    "        batch_files = self.file_paths[idx * self.batch_size : (idx + 1) * self.batch_size]\n",
    "        batch_labels = self.labels[idx * self.batch_size : (idx + 1) * self.batch_size]\n",
    "        \n",
    "        X = []\n",
    "        y = []\n",
    "        for file, label in zip(batch_files, batch_labels):\n",
    "            spectrogram = np.load(file)\n",
    "            \n",
    "            # Resize spectrogram to (128, 1293)\n",
    "            spectrogram = resize(spectrogram, (128, self.target_frames), mode='constant', anti_aliasing=True)\n",
    "            \n",
    "            # Apply augmentation if enabled\n",
    "            if self.augment:\n",
    "                spectrogram = apply_spectrogram_augmentation(spectrogram)\n",
    "            \n",
    "            X.append(spectrogram)\n",
    "            y.append(label)\n",
    "        \n",
    "        X = np.array(X) / 255.0  # Normalize to [0, 1]\n",
    "        X = np.expand_dims(X, axis=-1)  # Add channel dimension for grayscale\n",
    "        y = to_categorical(y, num_classes=10)  # One-hot encode labels\n",
    "        \n",
    "        return X, y"
   ]
  },
  {
   "cell_type": "markdown",
   "metadata": {},
   "source": [
    "3. Create Train and Test Generators"
   ]
  },
  {
   "cell_type": "code",
   "execution_count": 10,
   "metadata": {},
   "outputs": [
    {
     "name": "stdout",
     "output_type": "stream",
     "text": [
      "Number of train batches: 150\n",
      "Number of test batches: 38\n"
     ]
    }
   ],
   "source": [
    "# Module 4.2.3: Initialize Train and Test Generators with Augmentation\n",
    "\n",
    "# Batch size\n",
    "batch_size = 32\n",
    "\n",
    "# Create train and test generators\n",
    "train_generator = SpectrogramGenerator(\n",
    "    X_train_files, y_train_files, batch_size=batch_size, target_frames=1293, augment=True\n",
    ")\n",
    "test_generator = SpectrogramGenerator(\n",
    "    X_test_files, y_test_files, batch_size=batch_size, target_frames=1293, augment=False\n",
    ")\n",
    "\n",
    "print(f\"Number of train batches: {len(train_generator)}\")\n",
    "print(f\"Number of test batches: {len(test_generator)}\")"
   ]
  },
  {
   "cell_type": "markdown",
   "metadata": {},
   "source": [
    "## MODULE 5: Traditional ML Model Training and Evaluation"
   ]
  },
  {
   "cell_type": "markdown",
   "metadata": {},
   "source": [
    "### Model 1: Logistic Regression"
   ]
  },
  {
   "cell_type": "markdown",
   "metadata": {},
   "source": [
    "#### GSCV"
   ]
  },
  {
   "cell_type": "code",
   "execution_count": 11,
   "metadata": {},
   "outputs": [
    {
     "name": "stdout",
     "output_type": "stream",
     "text": [
      "Fitting 5 folds for each of 6 candidates, totalling 30 fits\n",
      "Best parameters for Logistic Regression: {'C': 10, 'penalty': 'l1', 'solver': 'liblinear'}\n"
     ]
    }
   ],
   "source": [
    "# Logistic Regression - Hyperparameter Tuning\n",
    "\n",
    "param_grid_logreg = {\n",
    "    'C': [0.1, 1, 10],\n",
    "    'penalty': ['l1', 'l2'],\n",
    "    'solver': ['liblinear']\n",
    "}\n",
    "\n",
    "logreg = LogisticRegression()\n",
    "grid_logreg = GridSearchCV(logreg, param_grid_logreg, cv=5, scoring='accuracy', verbose=2, n_jobs=-1)\n",
    "grid_logreg.fit(X_train_ml, y_train_ml)\n",
    "\n",
    "best_logreg = grid_logreg.best_estimator_\n",
    "print(f\"Best parameters for Logistic Regression: {grid_logreg.best_params_}\")"
   ]
  },
  {
   "cell_type": "markdown",
   "metadata": {},
   "source": [
    "#### Training and Prediction"
   ]
  },
  {
   "cell_type": "code",
   "execution_count": 12,
   "metadata": {},
   "outputs": [],
   "source": [
    "# Logistic Regression - Training and Prediction\n",
    "best_logreg.fit(X_train_ml, y_train_ml)\n",
    "y_pred_logreg = best_logreg.predict(X_test_ml)"
   ]
  },
  {
   "cell_type": "markdown",
   "metadata": {},
   "source": [
    "#### Evaluation"
   ]
  },
  {
   "cell_type": "code",
   "execution_count": 13,
   "metadata": {},
   "outputs": [
    {
     "name": "stdout",
     "output_type": "stream",
     "text": [
      "Classification Report for Logistic Regression:\n",
      "              precision    recall  f1-score   support\n",
      "\n",
      "       blues       0.64      0.72      0.68       120\n",
      "   classical       0.93      0.96      0.94       120\n",
      "     country       0.65      0.58      0.62       120\n",
      "       disco       0.59      0.74      0.66       120\n",
      "      hiphop       0.69      0.62      0.66       120\n",
      "        jazz       0.82      0.82      0.82       119\n",
      "       metal       0.88      0.88      0.88       120\n",
      "         pop       0.83      0.93      0.88       120\n",
      "      reggae       0.59      0.57      0.58       120\n",
      "        rock       0.68      0.48      0.57       120\n",
      "\n",
      "    accuracy                           0.73      1199\n",
      "   macro avg       0.73      0.73      0.73      1199\n",
      "weighted avg       0.73      0.73      0.73      1199\n",
      "\n"
     ]
    },
    {
     "data": {
      "image/png": "[encoded data removed]",
      "text/plain": [
       "<Figure size 600x400 with 2 Axes>"
      ]
     },
     "metadata": {},
     "output_type": "display_data"
    }
   ],
   "source": [
    "# Logistic Regression - Classification Report and Confusion Matrix\n",
    "\n",
    "# Classification Report\n",
    "print(\"Classification Report for Logistic Regression:\")\n",
    "print(classification_report(y_test_ml, y_pred_logreg, target_names=label_encoder_ml.classes_))\n",
    "\n",
    "# Confusion Matrix\n",
    "cm_logreg = confusion_matrix(y_test_ml, y_pred_logreg)\n",
    "plt.figure(figsize=(6, 4))\n",
    "sns.heatmap(cm_logreg, annot=True, fmt='d', cmap='RdPu',\n",
    "            xticklabels=label_encoder_ml.classes_, yticklabels=label_encoder_ml.classes_)\n",
    "plt.ylabel('True Label')\n",
    "plt.xlabel('Predicted Label')\n",
    "plt.title('Confusion Matrix - Logistic Regression')\n",
    "plt.show()"
   ]
  },
  {
   "cell_type": "markdown",
   "metadata": {},
   "source": [
    "#### Saving the Model"
   ]
  },
  {
   "cell_type": "code",
   "execution_count": 42,
   "metadata": {},
   "outputs": [
    {
     "name": "stdout",
     "output_type": "stream",
     "text": [
      "Logistic Regression model saved successfully at models/lr_model.joblib\n"
     ]
    }
   ],
   "source": [
    "# Module 5.1: Save Logistic Regression Model\n",
    "\n",
    "model_filename = \"models/lr_model.joblib\"  # Path to save the model\n",
    "os.makedirs(os.path.dirname(model_filename), exist_ok=True)  # Create directory if it doesn't exist\n",
    "joblib.dump(best_logreg, model_filename)\n",
    "\n",
    "print(f\"Logistic Regression model saved successfully at {model_filename}\")"
   ]
  },
  {
   "cell_type": "markdown",
   "metadata": {},
   "source": [
    "### Model 2: Random Forest"
   ]
  },
  {
   "cell_type": "markdown",
   "metadata": {},
   "source": [
    "#### GSCV"
   ]
  },
  {
   "cell_type": "code",
   "execution_count": 14,
   "metadata": {},
   "outputs": [
    {
     "name": "stdout",
     "output_type": "stream",
     "text": [
      "Fitting 5 folds for each of 27 candidates, totalling 135 fits\n",
      "Best parameters for Random Forest: {'max_depth': 20, 'min_samples_split': 2, 'n_estimators': 200}\n"
     ]
    }
   ],
   "source": [
    "# Random Forest - Hyperparameter Tuning\n",
    "\n",
    "param_grid_rf = {\n",
    "    'n_estimators': [50, 100, 200],\n",
    "    'max_depth': [None, 10, 20],\n",
    "    'min_samples_split': [2, 5, 10]\n",
    "}\n",
    "\n",
    "rf = RandomForestClassifier()\n",
    "grid_rf = GridSearchCV(rf, param_grid_rf, cv=5, scoring='accuracy', verbose=2, n_jobs=-1)\n",
    "grid_rf.fit(X_train_ml, y_train_ml)\n",
    "\n",
    "best_rf = grid_rf.best_estimator_\n",
    "print(f\"Best parameters for Random Forest: {grid_rf.best_params_}\")"
   ]
  },
  {
   "cell_type": "markdown",
   "metadata": {},
   "source": [
    "#### Training and Prediction"
   ]
  },
  {
   "cell_type": "code",
   "execution_count": 17,
   "metadata": {},
   "outputs": [],
   "source": [
    "# Random Forest - Training and Prediction\n",
    "best_rf.fit(X_train_ml, y_train_ml)\n",
    "y_pred_rf = best_rf.predict(X_test_ml)"
   ]
  },
  {
   "cell_type": "markdown",
   "metadata": {},
   "source": [
    "#### Evaluation"
   ]
  },
  {
   "cell_type": "code",
   "execution_count": 19,
   "metadata": {},
   "outputs": [
    {
     "name": "stdout",
     "output_type": "stream",
     "text": [
      "Classification Report for Random Forest:\n",
      "              precision    recall  f1-score   support\n",
      "\n",
      "       blues       0.99      1.00      1.00       120\n",
      "   classical       0.99      1.00      1.00       120\n",
      "     country       0.97      1.00      0.98       120\n",
      "       disco       0.95      0.98      0.97       120\n",
      "      hiphop       0.99      0.97      0.98       120\n",
      "        jazz       1.00      0.97      0.98       119\n",
      "       metal       0.97      0.99      0.98       120\n",
      "         pop       1.00      0.97      0.98       120\n",
      "      reggae       0.99      1.00      1.00       120\n",
      "        rock       0.99      0.96      0.97       120\n",
      "\n",
      "    accuracy                           0.98      1199\n",
      "   macro avg       0.98      0.98      0.98      1199\n",
      "weighted avg       0.98      0.98      0.98      1199\n",
      "\n"
     ]
    },
    {
     "data": {
      "image/png": "[encoded data removed]",
      "text/plain": [
       "<Figure size 600x400 with 2 Axes>"
      ]
     },
     "metadata": {},
     "output_type": "display_data"
    }
   ],
   "source": [
    "# Random Forest - Classification Report and Confusion Matrix\n",
    "\n",
    "# Classification Report\n",
    "print(\"Classification Report for Random Forest:\")\n",
    "print(classification_report(y_test_ml, y_pred_rf, target_names=label_encoder_ml.classes_))\n",
    "\n",
    "# Confusion Matrix\n",
    "cm_rf = confusion_matrix(y_test_ml, y_pred_rf)\n",
    "plt.figure(figsize=(6, 4))\n",
    "sns.heatmap(cm_rf, annot=True, fmt='d', cmap='RdPu',\n",
    "            xticklabels=label_encoder_ml.classes_, yticklabels=label_encoder_ml.classes_)\n",
    "plt.ylabel('True Label')\n",
    "plt.xlabel('Predicted Label')\n",
    "plt.title('Confusion Matrix - Random Forest')\n",
    "plt.show()"
   ]
  },
  {
   "cell_type": "markdown",
   "metadata": {},
   "source": [
    "#### Saving the model"
   ]
  },
  {
   "cell_type": "code",
   "execution_count": null,
   "metadata": {},
   "outputs": [
    {
     "name": "stdout",
     "output_type": "stream",
     "text": [
      "Random Forest model saved successfully at models/rf_model.joblib\n"
     ]
    }
   ],
   "source": [
    "# Module 5.2: Save Random Forest Model\n",
    "\n",
    "model_filename = \"models/rf_model.joblib\"  # Path to save the model\n",
    "os.makedirs(os.path.dirname(model_filename), exist_ok=True)  # Create directory if it doesn't exist\n",
    "joblib.dump(best_rf, model_filename)\n",
    "\n",
    "print(f\"Random Forest model saved successfully at {model_filename}\")"
   ]
  },
  {
   "cell_type": "markdown",
   "metadata": {},
   "source": [
    "#### Saving the model"
   ]
  },
  {
   "cell_type": "markdown",
   "metadata": {},
   "source": [
    "### Model 3: XGBoost"
   ]
  },
  {
   "cell_type": "markdown",
   "metadata": {},
   "source": [
    "#### GSCV"
   ]
  },
  {
   "cell_type": "code",
   "execution_count": 21,
   "metadata": {},
   "outputs": [
    {
     "name": "stdout",
     "output_type": "stream",
     "text": [
      "Fitting 5 folds for each of 27 candidates, totalling 135 fits\n",
      "Best parameters for XGBoost: {'learning_rate': 0.2, 'max_depth': 5, 'n_estimators': 200}\n"
     ]
    }
   ],
   "source": [
    "# XGBoost - Hyperparameter Tuning\n",
    "\n",
    "param_grid_xgb = {\n",
    "    'n_estimators': [50, 100, 200],\n",
    "    'learning_rate': [0.01, 0.1, 0.2],\n",
    "    'max_depth': [3, 5, 7]\n",
    "}\n",
    "\n",
    "xgb = XGBClassifier(use_label_encoder=False, eval_metric='mlogloss')\n",
    "grid_xgb = GridSearchCV(xgb, param_grid_xgb, cv=5, scoring='accuracy', verbose=2, n_jobs=-1)\n",
    "grid_xgb.fit(X_train_ml, y_train_ml)\n",
    "\n",
    "best_xgb = grid_xgb.best_estimator_\n",
    "print(f\"Best parameters for XGBoost: {grid_xgb.best_params_}\")"
   ]
  },
  {
   "cell_type": "markdown",
   "metadata": {},
   "source": [
    "#### Training and Prediction"
   ]
  },
  {
   "cell_type": "code",
   "execution_count": 22,
   "metadata": {},
   "outputs": [],
   "source": [
    "# XGBoost - Training and Prediction\n",
    "best_xgb.fit(X_train_ml, y_train_ml)\n",
    "y_pred_xgb = best_xgb.predict(X_test_ml)"
   ]
  },
  {
   "cell_type": "markdown",
   "metadata": {},
   "source": [
    "#### Evaluation"
   ]
  },
  {
   "cell_type": "code",
   "execution_count": 24,
   "metadata": {},
   "outputs": [
    {
     "name": "stdout",
     "output_type": "stream",
     "text": [
      "Classification Report for XGBoost:\n",
      "              precision    recall  f1-score   support\n",
      "\n",
      "       blues       0.98      0.98      0.98       120\n",
      "   classical       1.00      0.99      1.00       120\n",
      "     country       0.97      0.99      0.98       120\n",
      "       disco       0.99      0.99      0.99       120\n",
      "      hiphop       1.00      0.97      0.99       120\n",
      "        jazz       0.98      0.99      0.99       119\n",
      "       metal       0.98      0.98      0.98       120\n",
      "         pop       1.00      0.99      1.00       120\n",
      "      reggae       0.98      1.00      0.99       120\n",
      "        rock       0.97      0.96      0.97       120\n",
      "\n",
      "    accuracy                           0.99      1199\n",
      "   macro avg       0.99      0.99      0.99      1199\n",
      "weighted avg       0.99      0.99      0.99      1199\n",
      "\n"
     ]
    },
    {
     "data": {
      "image/png": "[encoded data removed]",
      "text/plain": [
       "<Figure size 600x400 with 2 Axes>"
      ]
     },
     "metadata": {},
     "output_type": "display_data"
    }
   ],
   "source": [
    "# XGBoost - Classification Report and Confusion Matrix\n",
    "# Classification Report\n",
    "print(\"Classification Report for XGBoost:\")\n",
    "print(classification_report(y_test_ml, y_pred_xgb, target_names=label_encoder_ml.classes_))\n",
    "\n",
    "# Confusion Matrix\n",
    "cm_xgb = confusion_matrix(y_test_ml, y_pred_xgb)\n",
    "plt.figure(figsize=(6, 4))\n",
    "sns.heatmap(cm_xgb, annot=True, fmt='d', cmap='RdPu',\n",
    "            xticklabels=label_encoder_ml.classes_, yticklabels=label_encoder_ml.classes_)\n",
    "plt.ylabel('True Label')\n",
    "plt.xlabel('Predicted Label')\n",
    "plt.title('Confusion Matrix - XGBoost')\n",
    "plt.show()"
   ]
  },
  {
   "cell_type": "markdown",
   "metadata": {},
   "source": [
    "#### Saving the model"
   ]
  },
  {
   "cell_type": "code",
   "execution_count": 26,
   "metadata": {},
   "outputs": [
    {
     "name": "stdout",
     "output_type": "stream",
     "text": [
      "XGBoost model saved successfully at models/xgb_model.joblib\n"
     ]
    }
   ],
   "source": [
    "# Module 5.3: Save XGBoost Model\n",
    "\n",
    "model_filename = \"models/xgb_model.joblib\"  # Path to save the model\n",
    "os.makedirs(os.path.dirname(model_filename), exist_ok=True)  # Create directory if it doesn't exist\n",
    "joblib.dump(best_xgb, model_filename)\n",
    "\n",
    "print(f\"XGBoost model saved successfully at {model_filename}\")"
   ]
  },
  {
   "cell_type": "markdown",
   "metadata": {},
   "source": [
    "### Model 4: SVM"
   ]
  },
  {
   "cell_type": "markdown",
   "metadata": {},
   "source": [
    "#### GSCV"
   ]
  },
  {
   "cell_type": "code",
   "execution_count": 27,
   "metadata": {},
   "outputs": [
    {
     "name": "stdout",
     "output_type": "stream",
     "text": [
      "Fitting 5 folds for each of 18 candidates, totalling 90 fits\n",
      "Best parameters for SVM: {'C': 10, 'gamma': 'scale', 'kernel': 'rbf'}\n"
     ]
    }
   ],
   "source": [
    "# SVM - Hyperparameter Tuning\n",
    "\n",
    "param_grid_svm = {\n",
    "    'C': [0.1, 1, 10],\n",
    "    'kernel': ['linear', 'rbf', 'poly'],\n",
    "    'gamma': ['scale', 'auto']\n",
    "}\n",
    "\n",
    "svm = SVC()\n",
    "grid_svm = GridSearchCV(svm, param_grid_svm, cv=5, scoring='accuracy', verbose=2, n_jobs=-1)\n",
    "grid_svm.fit(X_train_ml, y_train_ml)\n",
    "\n",
    "best_svm = grid_svm.best_estimator_\n",
    "print(f\"Best parameters for SVM: {grid_svm.best_params_}\")"
   ]
  },
  {
   "cell_type": "markdown",
   "metadata": {},
   "source": [
    "#### Training and Prediction"
   ]
  },
  {
   "cell_type": "code",
   "execution_count": 28,
   "metadata": {},
   "outputs": [],
   "source": [
    "# SVM - Training and Prediction\n",
    "best_svm.fit(X_train_ml, y_train_ml)\n",
    "y_pred_svm = best_svm.predict(X_test_ml)"
   ]
  },
  {
   "cell_type": "markdown",
   "metadata": {},
   "source": [
    "#### Evaluation"
   ]
  },
  {
   "cell_type": "code",
   "execution_count": 29,
   "metadata": {},
   "outputs": [
    {
     "name": "stdout",
     "output_type": "stream",
     "text": [
      "Classification Report for SVM:\n",
      "              precision    recall  f1-score   support\n",
      "\n",
      "       blues       1.00      1.00      1.00       120\n",
      "   classical       1.00      1.00      1.00       120\n",
      "     country       1.00      1.00      1.00       120\n",
      "       disco       0.96      1.00      0.98       120\n",
      "      hiphop       1.00      0.99      1.00       120\n",
      "        jazz       1.00      0.99      1.00       119\n",
      "       metal       0.99      0.99      0.99       120\n",
      "         pop       1.00      0.96      0.98       120\n",
      "      reggae       1.00      1.00      1.00       120\n",
      "        rock       0.98      1.00      0.99       120\n",
      "\n",
      "    accuracy                           0.99      1199\n",
      "   macro avg       0.99      0.99      0.99      1199\n",
      "weighted avg       0.99      0.99      0.99      1199\n",
      "\n"
     ]
    },
    {
     "data": {
      "image/png": "[encoded data removed]",
      "text/plain": [
       "<Figure size 600x400 with 2 Axes>"
      ]
     },
     "metadata": {},
     "output_type": "display_data"
    }
   ],
   "source": [
    "# SVM - Classification Report and Confusion Matrix\n",
    "\n",
    "# Classification Report\n",
    "print(\"Classification Report for SVM:\")\n",
    "print(classification_report(y_test_ml, y_pred_svm, target_names=label_encoder_ml.classes_))\n",
    "\n",
    "# Confusion Matrix\n",
    "cm_svm = confusion_matrix(y_test_ml, y_pred_svm)\n",
    "plt.figure(figsize=(6, 4))\n",
    "sns.heatmap(cm_svm, annot=True, fmt='d', cmap='RdPu',\n",
    "            xticklabels=label_encoder_ml.classes_, yticklabels=label_encoder_ml.classes_)\n",
    "plt.ylabel('True Label')\n",
    "plt.xlabel('Predicted Label')\n",
    "plt.title('Confusion Matrix - SVM')\n",
    "plt.show()"
   ]
  },
  {
   "cell_type": "markdown",
   "metadata": {},
   "source": [
    "#### Save the Model"
   ]
  },
  {
   "cell_type": "code",
   "execution_count": 30,
   "metadata": {},
   "outputs": [
    {
     "name": "stdout",
     "output_type": "stream",
     "text": [
      "SVM model saved successfully at models/svm_model.joblib\n"
     ]
    }
   ],
   "source": [
    "# Module 5.4: Save SVM Model\n",
    "\n",
    "model_filename = \"models/svm_model.joblib\"  # Path to save the model\n",
    "os.makedirs(os.path.dirname(model_filename), exist_ok=True)  # Create directory if it doesn't exist\n",
    "joblib.dump(best_svm, model_filename)\n",
    "\n",
    "print(f\"SVM model saved successfully at {model_filename}\")"
   ]
  },
  {
   "cell_type": "markdown",
   "metadata": {},
   "source": [
    "## MODULE 6: DL Model Training and Evaluation"
   ]
  },
  {
   "cell_type": "markdown",
   "metadata": {},
   "source": [
    "### Model 1: MLP"
   ]
  },
  {
   "cell_type": "markdown",
   "metadata": {},
   "source": [
    "#### Load Handcrafted Features for MLP"
   ]
  },
  {
   "cell_type": "markdown",
   "metadata": {},
   "source": [
    "The MLP will be trained on the handcrafted features extrcated into the CSV file. So it needs to be loaded"
   ]
  },
  {
   "cell_type": "code",
   "execution_count": 43,
   "metadata": {},
   "outputs": [
    {
     "name": "stdout",
     "output_type": "stream",
     "text": [
      "Train samples: 4795\n",
      "Test samples: 1199\n"
     ]
    }
   ],
   "source": [
    "# Module 6.1.1: Load Handcrafted Features\n",
    "\n",
    "# Load augmented features from CSV\n",
    "df = pd.read_csv(\"features/with_aug/augmented_features.csv\")\n",
    "X = df.drop(\"label\", axis=1).values  # Features\n",
    "y = df[\"label\"].values  # Labels\n",
    "\n",
    "# Encode labels\n",
    "label_encoder = LabelEncoder()\n",
    "y_encoded = label_encoder.fit_transform(y)\n",
    "\n",
    "# Split into train/test\n",
    "X_train_mlp, X_test_mlp, y_train_mlp, y_test_mlp = train_test_split(\n",
    "    X, y_encoded, test_size=0.2, stratify=y_encoded, random_state=42\n",
    ")\n",
    "\n",
    "print(f\"Train samples: {X_train_mlp.shape[0]}\")\n",
    "print(f\"Test samples: {X_test_mlp.shape[0]}\")"
   ]
  },
  {
   "cell_type": "markdown",
   "metadata": {},
   "source": [
    "#### Define the MLP Architecture"
   ]
  },
  {
   "cell_type": "code",
   "execution_count": 44,
   "metadata": {},
   "outputs": [
    {
     "data": {
      "text/html": [
       "<pre style=\"white-space:pre;overflow-x:auto;line-height:normal;font-family:Menlo,'DejaVu Sans Mono',consolas,'Courier New',monospace\"><span style=\"font-weight: bold\">Model: \"sequential\"</span>\n",
       "</pre>\n"
      ],
      "text/plain": [
       "\u001b[1mModel: \"sequential\"\u001b[0m\n"
      ]
     },
     "metadata": {},
     "output_type": "display_data"
    },
    {
     "data": {
      "text/html": [
       "<pre style=\"white-space:pre;overflow-x:auto;line-height:normal;font-family:Menlo,'DejaVu Sans Mono',consolas,'Courier New',monospace\">┏━━━━━━━━━━━━━━━━━━━━━━━━━━━━━━━━━┳━━━━━━━━━━━━━━━━━━━━━━━━┳━━━━━━━━━━━━━━━┓\n",
       "┃<span style=\"font-weight: bold\"> Layer (type)                    </span>┃<span style=\"font-weight: bold\"> Output Shape           </span>┃<span style=\"font-weight: bold\">       Param # </span>┃\n",
       "┡━━━━━━━━━━━━━━━━━━━━━━━━━━━━━━━━━╇━━━━━━━━━━━━━━━━━━━━━━━━╇━━━━━━━━━━━━━━━┩\n",
       "│ dense (<span style=\"color: #0087ff; text-decoration-color: #0087ff\">Dense</span>)                   │ (<span style=\"color: #00d7ff; text-decoration-color: #00d7ff\">None</span>, <span style=\"color: #00af00; text-decoration-color: #00af00\">512</span>)            │        <span style=\"color: #00af00; text-decoration-color: #00af00\">33,792</span> │\n",
       "├─────────────────────────────────┼────────────────────────┼───────────────┤\n",
       "│ dropout (<span style=\"color: #0087ff; text-decoration-color: #0087ff\">Dropout</span>)               │ (<span style=\"color: #00d7ff; text-decoration-color: #00d7ff\">None</span>, <span style=\"color: #00af00; text-decoration-color: #00af00\">512</span>)            │             <span style=\"color: #00af00; text-decoration-color: #00af00\">0</span> │\n",
       "├─────────────────────────────────┼────────────────────────┼───────────────┤\n",
       "│ dense_1 (<span style=\"color: #0087ff; text-decoration-color: #0087ff\">Dense</span>)                 │ (<span style=\"color: #00d7ff; text-decoration-color: #00d7ff\">None</span>, <span style=\"color: #00af00; text-decoration-color: #00af00\">256</span>)            │       <span style=\"color: #00af00; text-decoration-color: #00af00\">131,328</span> │\n",
       "├─────────────────────────────────┼────────────────────────┼───────────────┤\n",
       "│ dropout_1 (<span style=\"color: #0087ff; text-decoration-color: #0087ff\">Dropout</span>)             │ (<span style=\"color: #00d7ff; text-decoration-color: #00d7ff\">None</span>, <span style=\"color: #00af00; text-decoration-color: #00af00\">256</span>)            │             <span style=\"color: #00af00; text-decoration-color: #00af00\">0</span> │\n",
       "├─────────────────────────────────┼────────────────────────┼───────────────┤\n",
       "│ dense_2 (<span style=\"color: #0087ff; text-decoration-color: #0087ff\">Dense</span>)                 │ (<span style=\"color: #00d7ff; text-decoration-color: #00d7ff\">None</span>, <span style=\"color: #00af00; text-decoration-color: #00af00\">128</span>)            │        <span style=\"color: #00af00; text-decoration-color: #00af00\">32,896</span> │\n",
       "├─────────────────────────────────┼────────────────────────┼───────────────┤\n",
       "│ dropout_2 (<span style=\"color: #0087ff; text-decoration-color: #0087ff\">Dropout</span>)             │ (<span style=\"color: #00d7ff; text-decoration-color: #00d7ff\">None</span>, <span style=\"color: #00af00; text-decoration-color: #00af00\">128</span>)            │             <span style=\"color: #00af00; text-decoration-color: #00af00\">0</span> │\n",
       "├─────────────────────────────────┼────────────────────────┼───────────────┤\n",
       "│ dense_3 (<span style=\"color: #0087ff; text-decoration-color: #0087ff\">Dense</span>)                 │ (<span style=\"color: #00d7ff; text-decoration-color: #00d7ff\">None</span>, <span style=\"color: #00af00; text-decoration-color: #00af00\">10</span>)             │         <span style=\"color: #00af00; text-decoration-color: #00af00\">1,290</span> │\n",
       "└─────────────────────────────────┴────────────────────────┴───────────────┘\n",
       "</pre>\n"
      ],
      "text/plain": [
       "┏━━━━━━━━━━━━━━━━━━━━━━━━━━━━━━━━━┳━━━━━━━━━━━━━━━━━━━━━━━━┳━━━━━━━━━━━━━━━┓\n",
       "┃\u001b[1m \u001b[0m\u001b[1mLayer (type)                   \u001b[0m\u001b[1m \u001b[0m┃\u001b[1m \u001b[0m\u001b[1mOutput Shape          \u001b[0m\u001b[1m \u001b[0m┃\u001b[1m \u001b[0m\u001b[1m      Param #\u001b[0m\u001b[1m \u001b[0m┃\n",
       "┡━━━━━━━━━━━━━━━━━━━━━━━━━━━━━━━━━╇━━━━━━━━━━━━━━━━━━━━━━━━╇━━━━━━━━━━━━━━━┩\n",
       "│ dense (\u001b[38;5;33mDense\u001b[0m)                   │ (\u001b[38;5;45mNone\u001b[0m, \u001b[38;5;34m512\u001b[0m)            │        \u001b[38;5;34m33,792\u001b[0m │\n",
       "├─────────────────────────────────┼────────────────────────┼───────────────┤\n",
       "│ dropout (\u001b[38;5;33mDropout\u001b[0m)               │ (\u001b[38;5;45mNone\u001b[0m, \u001b[38;5;34m512\u001b[0m)            │             \u001b[38;5;34m0\u001b[0m │\n",
       "├─────────────────────────────────┼────────────────────────┼───────────────┤\n",
       "│ dense_1 (\u001b[38;5;33mDense\u001b[0m)                 │ (\u001b[38;5;45mNone\u001b[0m, \u001b[38;5;34m256\u001b[0m)            │       \u001b[38;5;34m131,328\u001b[0m │\n",
       "├─────────────────────────────────┼────────────────────────┼───────────────┤\n",
       "│ dropout_1 (\u001b[38;5;33mDropout\u001b[0m)             │ (\u001b[38;5;45mNone\u001b[0m, \u001b[38;5;34m256\u001b[0m)            │             \u001b[38;5;34m0\u001b[0m │\n",
       "├─────────────────────────────────┼────────────────────────┼───────────────┤\n",
       "│ dense_2 (\u001b[38;5;33mDense\u001b[0m)                 │ (\u001b[38;5;45mNone\u001b[0m, \u001b[38;5;34m128\u001b[0m)            │        \u001b[38;5;34m32,896\u001b[0m │\n",
       "├─────────────────────────────────┼────────────────────────┼───────────────┤\n",
       "│ dropout_2 (\u001b[38;5;33mDropout\u001b[0m)             │ (\u001b[38;5;45mNone\u001b[0m, \u001b[38;5;34m128\u001b[0m)            │             \u001b[38;5;34m0\u001b[0m │\n",
       "├─────────────────────────────────┼────────────────────────┼───────────────┤\n",
       "│ dense_3 (\u001b[38;5;33mDense\u001b[0m)                 │ (\u001b[38;5;45mNone\u001b[0m, \u001b[38;5;34m10\u001b[0m)             │         \u001b[38;5;34m1,290\u001b[0m │\n",
       "└─────────────────────────────────┴────────────────────────┴───────────────┘\n"
      ]
     },
     "metadata": {},
     "output_type": "display_data"
    },
    {
     "data": {
      "text/html": [
       "<pre style=\"white-space:pre;overflow-x:auto;line-height:normal;font-family:Menlo,'DejaVu Sans Mono',consolas,'Courier New',monospace\"><span style=\"font-weight: bold\"> Total params: </span><span style=\"color: #00af00; text-decoration-color: #00af00\">199,306</span> (778.54 KB)\n",
       "</pre>\n"
      ],
      "text/plain": [
       "\u001b[1m Total params: \u001b[0m\u001b[38;5;34m199,306\u001b[0m (778.54 KB)\n"
      ]
     },
     "metadata": {},
     "output_type": "display_data"
    },
    {
     "data": {
      "text/html": [
       "<pre style=\"white-space:pre;overflow-x:auto;line-height:normal;font-family:Menlo,'DejaVu Sans Mono',consolas,'Courier New',monospace\"><span style=\"font-weight: bold\"> Trainable params: </span><span style=\"color: #00af00; text-decoration-color: #00af00\">199,306</span> (778.54 KB)\n",
       "</pre>\n"
      ],
      "text/plain": [
       "\u001b[1m Trainable params: \u001b[0m\u001b[38;5;34m199,306\u001b[0m (778.54 KB)\n"
      ]
     },
     "metadata": {},
     "output_type": "display_data"
    },
    {
     "data": {
      "text/html": [
       "<pre style=\"white-space:pre;overflow-x:auto;line-height:normal;font-family:Menlo,'DejaVu Sans Mono',consolas,'Courier New',monospace\"><span style=\"font-weight: bold\"> Non-trainable params: </span><span style=\"color: #00af00; text-decoration-color: #00af00\">0</span> (0.00 B)\n",
       "</pre>\n"
      ],
      "text/plain": [
       "\u001b[1m Non-trainable params: \u001b[0m\u001b[38;5;34m0\u001b[0m (0.00 B)\n"
      ]
     },
     "metadata": {},
     "output_type": "display_data"
    }
   ],
   "source": [
    "# Module 6.1.2: Define MLP Architecture\n",
    "\n",
    "def build_mlp_model(input_shape):\n",
    "    \"\"\"\n",
    "    Build and compile an MLP model for classification.\n",
    "    \n",
    "    Args:\n",
    "        input_shape (int): Flattened input size (e.g., number of features).\n",
    "        \n",
    "    Returns:\n",
    "        model: Compiled MLP model.\n",
    "    \"\"\"\n",
    "    model = Sequential([\n",
    "        Dense(512, activation='relu', input_shape=(input_shape,)),\n",
    "        Dropout(0.5),\n",
    "        Dense(256, activation='relu'),\n",
    "        Dropout(0.5),\n",
    "        Dense(128, activation='relu'),\n",
    "        Dropout(0.5),\n",
    "        Dense(10, activation='softmax')  # 10 genres\n",
    "    ])\n",
    "    \n",
    "    # Compile the model\n",
    "    model.compile(optimizer=Adam(learning_rate=0.001),\n",
    "                  loss='sparse_categorical_crossentropy',\n",
    "                  metrics=['accuracy'])\n",
    "    return model\n",
    "\n",
    "# Input shape: Number of features\n",
    "input_shape_mlp = X_train_mlp.shape[1]  # e.g., 65 features\n",
    "mlp_model = build_mlp_model(input_shape_mlp)\n",
    "\n",
    "# Print model summary\n",
    "mlp_model.summary()"
   ]
  },
  {
   "cell_type": "markdown",
   "metadata": {},
   "source": [
    "#### Train the MLP Model"
   ]
  },
  {
   "cell_type": "code",
   "execution_count": 45,
   "metadata": {},
   "outputs": [
    {
     "name": "stdout",
     "output_type": "stream",
     "text": [
      "Epoch 1/50\n",
      "\u001b[1m150/150\u001b[0m \u001b[32m━━━━━━━━━━━━━━━━━━━━\u001b[0m\u001b[37m\u001b[0m \u001b[1m2s\u001b[0m 4ms/step - accuracy: 0.1229 - loss: 8.7999 - val_accuracy: 0.3403 - val_loss: 2.0254\n",
      "Epoch 2/50\n",
      "\u001b[1m150/150\u001b[0m \u001b[32m━━━━━━━━━━━━━━━━━━━━\u001b[0m\u001b[37m\u001b[0m \u001b[1m0s\u001b[0m 3ms/step - accuracy: 0.2270 - loss: 2.2765 - val_accuracy: 0.4053 - val_loss: 1.8720\n",
      "Epoch 3/50\n",
      "\u001b[1m150/150\u001b[0m \u001b[32m━━━━━━━━━━━━━━━━━━━━\u001b[0m\u001b[37m\u001b[0m \u001b[1m0s\u001b[0m 2ms/step - accuracy: 0.2699 - loss: 2.0522 - val_accuracy: 0.3978 - val_loss: 1.7441\n",
      "Epoch 4/50\n",
      "\u001b[1m150/150\u001b[0m \u001b[32m━━━━━━━━━━━━━━━━━━━━\u001b[0m\u001b[37m\u001b[0m \u001b[1m0s\u001b[0m 3ms/step - accuracy: 0.3300 - loss: 1.8687 - val_accuracy: 0.4245 - val_loss: 1.6845\n",
      "Epoch 5/50\n",
      "\u001b[1m150/150\u001b[0m \u001b[32m━━━━━━━━━━━━━━━━━━━━\u001b[0m\u001b[37m\u001b[0m \u001b[1m0s\u001b[0m 3ms/step - accuracy: 0.3556 - loss: 1.7936 - val_accuracy: 0.4887 - val_loss: 1.5895\n",
      "Epoch 6/50\n",
      "\u001b[1m150/150\u001b[0m \u001b[32m━━━━━━━━━━━━━━━━━━━━\u001b[0m\u001b[37m\u001b[0m \u001b[1m0s\u001b[0m 2ms/step - accuracy: 0.4010 - loss: 1.6848 - val_accuracy: 0.5346 - val_loss: 1.5005\n",
      "Epoch 7/50\n",
      "\u001b[1m150/150\u001b[0m \u001b[32m━━━━━━━━━━━━━━━━━━━━\u001b[0m\u001b[37m\u001b[0m \u001b[1m0s\u001b[0m 3ms/step - accuracy: 0.4235 - loss: 1.6210 - val_accuracy: 0.5379 - val_loss: 1.4064\n",
      "Epoch 8/50\n",
      "\u001b[1m150/150\u001b[0m \u001b[32m━━━━━━━━━━━━━━━━━━━━\u001b[0m\u001b[37m\u001b[0m \u001b[1m0s\u001b[0m 3ms/step - accuracy: 0.4594 - loss: 1.5289 - val_accuracy: 0.5463 - val_loss: 1.3528\n",
      "Epoch 9/50\n",
      "\u001b[1m150/150\u001b[0m \u001b[32m━━━━━━━━━━━━━━━━━━━━\u001b[0m\u001b[37m\u001b[0m \u001b[1m0s\u001b[0m 3ms/step - accuracy: 0.4851 - loss: 1.4684 - val_accuracy: 0.5847 - val_loss: 1.2833\n",
      "Epoch 10/50\n",
      "\u001b[1m150/150\u001b[0m \u001b[32m━━━━━━━━━━━━━━━━━━━━\u001b[0m\u001b[37m\u001b[0m \u001b[1m0s\u001b[0m 3ms/step - accuracy: 0.5070 - loss: 1.3865 - val_accuracy: 0.5638 - val_loss: 1.2531\n",
      "Epoch 11/50\n",
      "\u001b[1m150/150\u001b[0m \u001b[32m━━━━━━━━━━━━━━━━━━━━\u001b[0m\u001b[37m\u001b[0m \u001b[1m0s\u001b[0m 2ms/step - accuracy: 0.5234 - loss: 1.3595 - val_accuracy: 0.6088 - val_loss: 1.1559\n",
      "Epoch 12/50\n",
      "\u001b[1m150/150\u001b[0m \u001b[32m━━━━━━━━━━━━━━━━━━━━\u001b[0m\u001b[37m\u001b[0m \u001b[1m0s\u001b[0m 2ms/step - accuracy: 0.5440 - loss: 1.2994 - val_accuracy: 0.6355 - val_loss: 1.1411\n",
      "Epoch 13/50\n",
      "\u001b[1m150/150\u001b[0m \u001b[32m━━━━━━━━━━━━━━━━━━━━\u001b[0m\u001b[37m\u001b[0m \u001b[1m0s\u001b[0m 2ms/step - accuracy: 0.5555 - loss: 1.2678 - val_accuracy: 0.6455 - val_loss: 1.0793\n",
      "Epoch 14/50\n",
      "\u001b[1m150/150\u001b[0m \u001b[32m━━━━━━━━━━━━━━━━━━━━\u001b[0m\u001b[37m\u001b[0m \u001b[1m0s\u001b[0m 3ms/step - accuracy: 0.5803 - loss: 1.2277 - val_accuracy: 0.6722 - val_loss: 0.9792\n",
      "Epoch 15/50\n",
      "\u001b[1m150/150\u001b[0m \u001b[32m━━━━━━━━━━━━━━━━━━━━\u001b[0m\u001b[37m\u001b[0m \u001b[1m0s\u001b[0m 3ms/step - accuracy: 0.6011 - loss: 1.1613 - val_accuracy: 0.6781 - val_loss: 0.9689\n",
      "Epoch 16/50\n",
      "\u001b[1m150/150\u001b[0m \u001b[32m━━━━━━━━━━━━━━━━━━━━\u001b[0m\u001b[37m\u001b[0m \u001b[1m0s\u001b[0m 3ms/step - accuracy: 0.6062 - loss: 1.1256 - val_accuracy: 0.6722 - val_loss: 0.9748\n",
      "Epoch 17/50\n",
      "\u001b[1m150/150\u001b[0m \u001b[32m━━━━━━━━━━━━━━━━━━━━\u001b[0m\u001b[37m\u001b[0m \u001b[1m0s\u001b[0m 3ms/step - accuracy: 0.6258 - loss: 1.0990 - val_accuracy: 0.7023 - val_loss: 0.8792\n",
      "Epoch 18/50\n",
      "\u001b[1m150/150\u001b[0m \u001b[32m━━━━━━━━━━━━━━━━━━━━\u001b[0m\u001b[37m\u001b[0m \u001b[1m0s\u001b[0m 3ms/step - accuracy: 0.6359 - loss: 1.0561 - val_accuracy: 0.7123 - val_loss: 0.8562\n",
      "Epoch 19/50\n",
      "\u001b[1m150/150\u001b[0m \u001b[32m━━━━━━━━━━━━━━━━━━━━\u001b[0m\u001b[37m\u001b[0m \u001b[1m0s\u001b[0m 3ms/step - accuracy: 0.6546 - loss: 1.0122 - val_accuracy: 0.7206 - val_loss: 0.8644\n",
      "Epoch 20/50\n",
      "\u001b[1m150/150\u001b[0m \u001b[32m━━━━━━━━━━━━━━━━━━━━\u001b[0m\u001b[37m\u001b[0m \u001b[1m0s\u001b[0m 3ms/step - accuracy: 0.6492 - loss: 1.0095 - val_accuracy: 0.7448 - val_loss: 0.8017\n",
      "Epoch 21/50\n",
      "\u001b[1m150/150\u001b[0m \u001b[32m━━━━━━━━━━━━━━━━━━━━\u001b[0m\u001b[37m\u001b[0m \u001b[1m0s\u001b[0m 3ms/step - accuracy: 0.6652 - loss: 1.0093 - val_accuracy: 0.7264 - val_loss: 0.8005\n",
      "Epoch 22/50\n",
      "\u001b[1m150/150\u001b[0m \u001b[32m━━━━━━━━━━━━━━━━━━━━\u001b[0m\u001b[37m\u001b[0m \u001b[1m0s\u001b[0m 3ms/step - accuracy: 0.6807 - loss: 0.9273 - val_accuracy: 0.7740 - val_loss: 0.7420\n",
      "Epoch 23/50\n",
      "\u001b[1m150/150\u001b[0m \u001b[32m━━━━━━━━━━━━━━━━━━━━\u001b[0m\u001b[37m\u001b[0m \u001b[1m0s\u001b[0m 3ms/step - accuracy: 0.6871 - loss: 0.9262 - val_accuracy: 0.7665 - val_loss: 0.7051\n",
      "Epoch 24/50\n",
      "\u001b[1m150/150\u001b[0m \u001b[32m━━━━━━━━━━━━━━━━━━━━\u001b[0m\u001b[37m\u001b[0m \u001b[1m0s\u001b[0m 3ms/step - accuracy: 0.6962 - loss: 0.8916 - val_accuracy: 0.7481 - val_loss: 0.7528\n",
      "Epoch 25/50\n",
      "\u001b[1m150/150\u001b[0m \u001b[32m━━━━━━━━━━━━━━━━━━━━\u001b[0m\u001b[37m\u001b[0m \u001b[1m0s\u001b[0m 3ms/step - accuracy: 0.6936 - loss: 0.8838 - val_accuracy: 0.7773 - val_loss: 0.6708\n",
      "Epoch 26/50\n",
      "\u001b[1m150/150\u001b[0m \u001b[32m━━━━━━━━━━━━━━━━━━━━\u001b[0m\u001b[37m\u001b[0m \u001b[1m0s\u001b[0m 3ms/step - accuracy: 0.7305 - loss: 0.7992 - val_accuracy: 0.7915 - val_loss: 0.6265\n",
      "Epoch 27/50\n",
      "\u001b[1m150/150\u001b[0m \u001b[32m━━━━━━━━━━━━━━━━━━━━\u001b[0m\u001b[37m\u001b[0m \u001b[1m0s\u001b[0m 3ms/step - accuracy: 0.7302 - loss: 0.8164 - val_accuracy: 0.7823 - val_loss: 0.6414\n",
      "Epoch 28/50\n",
      "\u001b[1m150/150\u001b[0m \u001b[32m━━━━━━━━━━━━━━━━━━━━\u001b[0m\u001b[37m\u001b[0m \u001b[1m0s\u001b[0m 3ms/step - accuracy: 0.7295 - loss: 0.8081 - val_accuracy: 0.8340 - val_loss: 0.5623\n",
      "Epoch 29/50\n",
      "\u001b[1m150/150\u001b[0m \u001b[32m━━━━━━━━━━━━━━━━━━━━\u001b[0m\u001b[37m\u001b[0m \u001b[1m0s\u001b[0m 3ms/step - accuracy: 0.7329 - loss: 0.8060 - val_accuracy: 0.8132 - val_loss: 0.5587\n",
      "Epoch 30/50\n",
      "\u001b[1m150/150\u001b[0m \u001b[32m━━━━━━━━━━━━━━━━━━━━\u001b[0m\u001b[37m\u001b[0m \u001b[1m0s\u001b[0m 3ms/step - accuracy: 0.7546 - loss: 0.7133 - val_accuracy: 0.8165 - val_loss: 0.5651\n",
      "Epoch 31/50\n",
      "\u001b[1m150/150\u001b[0m \u001b[32m━━━━━━━━━━━━━━━━━━━━\u001b[0m\u001b[37m\u001b[0m \u001b[1m0s\u001b[0m 3ms/step - accuracy: 0.7433 - loss: 0.7431 - val_accuracy: 0.8190 - val_loss: 0.5463\n",
      "Epoch 32/50\n",
      "\u001b[1m150/150\u001b[0m \u001b[32m━━━━━━━━━━━━━━━━━━━━\u001b[0m\u001b[37m\u001b[0m \u001b[1m0s\u001b[0m 3ms/step - accuracy: 0.7702 - loss: 0.6982 - val_accuracy: 0.8232 - val_loss: 0.5529\n",
      "Epoch 33/50\n",
      "\u001b[1m150/150\u001b[0m \u001b[32m━━━━━━━━━━━━━━━━━━━━\u001b[0m\u001b[37m\u001b[0m \u001b[1m0s\u001b[0m 3ms/step - accuracy: 0.7433 - loss: 0.7279 - val_accuracy: 0.8357 - val_loss: 0.5238\n",
      "Epoch 34/50\n",
      "\u001b[1m150/150\u001b[0m \u001b[32m━━━━━━━━━━━━━━━━━━━━\u001b[0m\u001b[37m\u001b[0m \u001b[1m1s\u001b[0m 3ms/step - accuracy: 0.7613 - loss: 0.6928 - val_accuracy: 0.8274 - val_loss: 0.5354\n",
      "Epoch 35/50\n",
      "\u001b[1m150/150\u001b[0m \u001b[32m━━━━━━━━━━━━━━━━━━━━\u001b[0m\u001b[37m\u001b[0m \u001b[1m0s\u001b[0m 3ms/step - accuracy: 0.7538 - loss: 0.6999 - val_accuracy: 0.8440 - val_loss: 0.4941\n",
      "Epoch 36/50\n",
      "\u001b[1m150/150\u001b[0m \u001b[32m━━━━━━━━━━━━━━━━━━━━\u001b[0m\u001b[37m\u001b[0m \u001b[1m0s\u001b[0m 3ms/step - accuracy: 0.7715 - loss: 0.6875 - val_accuracy: 0.8699 - val_loss: 0.4616\n",
      "Epoch 37/50\n",
      "\u001b[1m150/150\u001b[0m \u001b[32m━━━━━━━━━━━━━━━━━━━━\u001b[0m\u001b[37m\u001b[0m \u001b[1m0s\u001b[0m 3ms/step - accuracy: 0.7718 - loss: 0.6544 - val_accuracy: 0.8557 - val_loss: 0.4515\n",
      "Epoch 38/50\n",
      "\u001b[1m150/150\u001b[0m \u001b[32m━━━━━━━━━━━━━━━━━━━━\u001b[0m\u001b[37m\u001b[0m \u001b[1m0s\u001b[0m 3ms/step - accuracy: 0.7910 - loss: 0.6555 - val_accuracy: 0.8716 - val_loss: 0.4326\n",
      "Epoch 39/50\n",
      "\u001b[1m150/150\u001b[0m \u001b[32m━━━━━━━━━━━━━━━━━━━━\u001b[0m\u001b[37m\u001b[0m \u001b[1m0s\u001b[0m 3ms/step - accuracy: 0.8034 - loss: 0.6133 - val_accuracy: 0.8590 - val_loss: 0.4248\n",
      "Epoch 40/50\n",
      "\u001b[1m150/150\u001b[0m \u001b[32m━━━━━━━━━━━━━━━━━━━━\u001b[0m\u001b[37m\u001b[0m \u001b[1m0s\u001b[0m 2ms/step - accuracy: 0.7913 - loss: 0.6052 - val_accuracy: 0.8707 - val_loss: 0.4155\n",
      "Epoch 41/50\n",
      "\u001b[1m150/150\u001b[0m \u001b[32m━━━━━━━━━━━━━━━━━━━━\u001b[0m\u001b[37m\u001b[0m \u001b[1m0s\u001b[0m 3ms/step - accuracy: 0.7856 - loss: 0.6272 - val_accuracy: 0.8882 - val_loss: 0.3870\n",
      "Epoch 42/50\n",
      "\u001b[1m150/150\u001b[0m \u001b[32m━━━━━━━━━━━━━━━━━━━━\u001b[0m\u001b[37m\u001b[0m \u001b[1m0s\u001b[0m 2ms/step - accuracy: 0.8068 - loss: 0.5817 - val_accuracy: 0.8857 - val_loss: 0.3867\n",
      "Epoch 43/50\n",
      "\u001b[1m150/150\u001b[0m \u001b[32m━━━━━━━━━━━━━━━━━━━━\u001b[0m\u001b[37m\u001b[0m \u001b[1m0s\u001b[0m 3ms/step - accuracy: 0.8061 - loss: 0.5928 - val_accuracy: 0.8874 - val_loss: 0.3837\n",
      "Epoch 44/50\n",
      "\u001b[1m150/150\u001b[0m \u001b[32m━━━━━━━━━━━━━━━━━━━━\u001b[0m\u001b[37m\u001b[0m \u001b[1m0s\u001b[0m 3ms/step - accuracy: 0.8155 - loss: 0.5426 - val_accuracy: 0.9066 - val_loss: 0.3225\n",
      "Epoch 45/50\n",
      "\u001b[1m150/150\u001b[0m \u001b[32m━━━━━━━━━━━━━━━━━━━━\u001b[0m\u001b[37m\u001b[0m \u001b[1m0s\u001b[0m 2ms/step - accuracy: 0.8256 - loss: 0.5121 - val_accuracy: 0.8974 - val_loss: 0.3287\n",
      "Epoch 46/50\n",
      "\u001b[1m150/150\u001b[0m \u001b[32m━━━━━━━━━━━━━━━━━━━━\u001b[0m\u001b[37m\u001b[0m \u001b[1m0s\u001b[0m 2ms/step - accuracy: 0.8145 - loss: 0.5529 - val_accuracy: 0.9066 - val_loss: 0.3500\n",
      "Epoch 47/50\n",
      "\u001b[1m150/150\u001b[0m \u001b[32m━━━━━━━━━━━━━━━━━━━━\u001b[0m\u001b[37m\u001b[0m \u001b[1m0s\u001b[0m 3ms/step - accuracy: 0.8183 - loss: 0.5309 - val_accuracy: 0.9124 - val_loss: 0.2974\n",
      "Epoch 48/50\n",
      "\u001b[1m150/150\u001b[0m \u001b[32m━━━━━━━━━━━━━━━━━━━━\u001b[0m\u001b[37m\u001b[0m \u001b[1m0s\u001b[0m 2ms/step - accuracy: 0.8274 - loss: 0.5366 - val_accuracy: 0.9091 - val_loss: 0.3242\n",
      "Epoch 49/50\n",
      "\u001b[1m150/150\u001b[0m \u001b[32m━━━━━━━━━━━━━━━━━━━━\u001b[0m\u001b[37m\u001b[0m \u001b[1m0s\u001b[0m 2ms/step - accuracy: 0.8373 - loss: 0.4991 - val_accuracy: 0.9174 - val_loss: 0.3109\n",
      "Epoch 50/50\n",
      "\u001b[1m150/150\u001b[0m \u001b[32m━━━━━━━━━━━━━━━━━━━━\u001b[0m\u001b[37m\u001b[0m \u001b[1m0s\u001b[0m 2ms/step - accuracy: 0.8263 - loss: 0.5115 - val_accuracy: 0.9199 - val_loss: 0.2964\n"
     ]
    }
   ],
   "source": [
    "# Module 6.1.3: Train MLP Model\n",
    "\n",
    "# Train the model\n",
    "history_mlp = mlp_model.fit(\n",
    "    X_train_mlp, y_train_mlp,\n",
    "    validation_data=(X_test_mlp, y_test_mlp),\n",
    "    epochs=50,\n",
    "    batch_size=32,\n",
    "    callbacks=[\n",
    "        tf.keras.callbacks.EarlyStopping(monitor='val_loss', patience=5, restore_best_weights=True)\n",
    "    ]\n",
    ")"
   ]
  },
  {
   "cell_type": "markdown",
   "metadata": {},
   "source": [
    "#### Evaluate the MLP Model"
   ]
  },
  {
   "cell_type": "code",
   "execution_count": 46,
   "metadata": {},
   "outputs": [
    {
     "name": "stdout",
     "output_type": "stream",
     "text": [
      "\u001b[1m38/38\u001b[0m \u001b[32m━━━━━━━━━━━━━━━━━━━━\u001b[0m\u001b[37m\u001b[0m \u001b[1m0s\u001b[0m 1ms/step - accuracy: 0.9289 - loss: 0.2629 \n",
      "Test Accuracy (MLP): 91.99%\n"
     ]
    }
   ],
   "source": [
    "# eval2\n",
    "\n",
    "# Module 6.1.4: Evaluate MLP Model\n",
    "\n",
    "# Evaluate on test data\n",
    "test_loss_mlp, test_accuracy_mlp = mlp_model.evaluate(X_test_mlp, y_test_mlp)\n",
    "print(f\"Test Accuracy (MLP): {test_accuracy_mlp * 100:.2f}%\")"
   ]
  },
  {
   "cell_type": "code",
   "execution_count": 39,
   "metadata": {},
   "outputs": [
    {
     "name": "stdout",
     "output_type": "stream",
     "text": [
      "\u001b[1m38/38\u001b[0m \u001b[32m━━━━━━━━━━━━━━━━━━━━\u001b[0m\u001b[37m\u001b[0m \u001b[1m0s\u001b[0m 3ms/step - accuracy: 0.9231 - loss: 0.2827\n",
      "Test Accuracy (MLP): 90.99%\n"
     ]
    }
   ],
   "source": [
    "# Module 6.1.4: Evaluate MLP Model\n",
    "\n",
    "# Evaluate on test data\n",
    "test_loss_mlp, test_accuracy_mlp = mlp_model.evaluate(X_test_mlp, y_test_mlp)\n",
    "print(f\"Test Accuracy (MLP): {test_accuracy_mlp * 100:.2f}%\")"
   ]
  },
  {
   "cell_type": "markdown",
   "metadata": {},
   "source": [
    "#### Generate Classification Report and Confusion Matrix"
   ]
  },
  {
   "cell_type": "code",
   "execution_count": 47,
   "metadata": {},
   "outputs": [
    {
     "name": "stdout",
     "output_type": "stream",
     "text": [
      "\u001b[1m38/38\u001b[0m \u001b[32m━━━━━━━━━━━━━━━━━━━━\u001b[0m\u001b[37m\u001b[0m \u001b[1m0s\u001b[0m 2ms/step \n",
      "Classification Report for MLP:\n",
      "              precision    recall  f1-score   support\n",
      "\n",
      "       blues       0.95      0.95      0.95       120\n",
      "   classical       0.95      0.99      0.97       120\n",
      "     country       0.83      0.92      0.87       120\n",
      "       disco       0.81      0.93      0.87       120\n",
      "      hiphop       0.97      0.88      0.92       120\n",
      "        jazz       0.97      0.93      0.95       119\n",
      "       metal       0.96      0.91      0.93       120\n",
      "         pop       0.97      0.94      0.96       120\n",
      "      reggae       0.93      0.95      0.94       120\n",
      "        rock       0.88      0.80      0.84       120\n",
      "\n",
      "    accuracy                           0.92      1199\n",
      "   macro avg       0.92      0.92      0.92      1199\n",
      "weighted avg       0.92      0.92      0.92      1199\n",
      "\n"
     ]
    },
    {
     "data": {
      "image/png": "[encoded data removed]",
      "text/plain": [
       "<Figure size 600x400 with 2 Axes>"
      ]
     },
     "metadata": {},
     "output_type": "display_data"
    }
   ],
   "source": [
    "#report2\n",
    "\n",
    "# Module 6.1.5: Classification Report and Confusion Matrix\n",
    "\n",
    "# Predictions\n",
    "y_pred_mlp_probs = mlp_model.predict(X_test_mlp)\n",
    "y_pred_mlp = np.argmax(y_pred_mlp_probs, axis=1)\n",
    "\n",
    "# Classification Report\n",
    "print(\"Classification Report for MLP:\")\n",
    "print(classification_report(y_test_mlp, y_pred_mlp, target_names=label_encoder.classes_))\n",
    "\n",
    "# Confusion Matrix\n",
    "cm_mlp = confusion_matrix(y_test_mlp, y_pred_mlp)\n",
    "plt.figure(figsize=(6, 4))\n",
    "sns.heatmap(cm_mlp, annot=True, fmt='d', cmap='RdPu',\n",
    "            xticklabels=label_encoder.classes_, yticklabels=label_encoder.classes_)\n",
    "plt.ylabel('True Label')\n",
    "plt.xlabel('Predicted Label')\n",
    "plt.title('Confusion Matrix - MLP')\n",
    "plt.show()"
   ]
  },
  {
   "cell_type": "code",
   "execution_count": 40,
   "metadata": {},
   "outputs": [
    {
     "name": "stdout",
     "output_type": "stream",
     "text": [
      "\u001b[1m38/38\u001b[0m \u001b[32m━━━━━━━━━━━━━━━━━━━━\u001b[0m\u001b[37m\u001b[0m \u001b[1m0s\u001b[0m 4ms/step\n",
      "Classification Report for MLP:\n",
      "              precision    recall  f1-score   support\n",
      "\n",
      "       blues       0.95      0.96      0.95       120\n",
      "   classical       0.94      0.99      0.96       120\n",
      "     country       0.94      0.87      0.90       120\n",
      "       disco       0.86      0.83      0.85       120\n",
      "      hiphop       0.87      0.94      0.90       120\n",
      "        jazz       0.96      0.90      0.93       119\n",
      "       metal       0.89      0.91      0.90       120\n",
      "         pop       0.98      0.94      0.96       120\n",
      "      reggae       0.89      0.94      0.91       120\n",
      "        rock       0.82      0.82      0.82       120\n",
      "\n",
      "    accuracy                           0.91      1199\n",
      "   macro avg       0.91      0.91      0.91      1199\n",
      "weighted avg       0.91      0.91      0.91      1199\n",
      "\n"
     ]
    },
    {
     "data": {
      "image/png": "[encoded data removed]",
      "text/plain": [
       "<Figure size 600x400 with 2 Axes>"
      ]
     },
     "metadata": {},
     "output_type": "display_data"
    }
   ],
   "source": [
    "# Module 6.1.5: Classification Report and Confusion Matrix\n",
    "\n",
    "# Predictions\n",
    "y_pred_mlp_probs = mlp_model.predict(X_test_mlp)\n",
    "y_pred_mlp = np.argmax(y_pred_mlp_probs, axis=1)\n",
    "\n",
    "# Classification Report\n",
    "print(\"Classification Report for MLP:\")\n",
    "print(classification_report(y_test_mlp, y_pred_mlp, target_names=label_encoder.classes_))\n",
    "\n",
    "# Confusion Matrix\n",
    "cm_mlp = confusion_matrix(y_test_mlp, y_pred_mlp)\n",
    "plt.figure(figsize=(6, 4))\n",
    "sns.heatmap(cm_mlp, annot=True, fmt='d', cmap='RdPu',\n",
    "            xticklabels=label_encoder.classes_, yticklabels=label_encoder.classes_)\n",
    "plt.ylabel('True Label')\n",
    "plt.xlabel('Predicted Label')\n",
    "plt.title('Confusion Matrix - MLP')\n",
    "plt.show()"
   ]
  },
  {
   "cell_type": "markdown",
   "metadata": {},
   "source": [
    "#### Save the Model"
   ]
  },
  {
   "cell_type": "code",
   "execution_count": 49,
   "metadata": {},
   "outputs": [
    {
     "name": "stderr",
     "output_type": "stream",
     "text": [
      "WARNING:absl:You are saving your model as an HDF5 file via `model.save()` or `keras.saving.save_model(model)`. This file format is considered legacy. We recommend using instead the native Keras format, e.g. `model.save('my_model.keras')` or `keras.saving.save_model(model, 'my_model.keras')`. \n"
     ]
    },
    {
     "name": "stdout",
     "output_type": "stream",
     "text": [
      "MLP model saved successfully at models/mlp_model.h5\n"
     ]
    }
   ],
   "source": [
    "# Module 6.1.6 Save MLP Model\n",
    "\n",
    "model_filename = \"models/mlp_model.h5\"  # Path to save the model\n",
    "os.makedirs(os.path.dirname(model_filename), exist_ok=True)  # Create directory if it doesn't exist\n",
    "mlp_model.save(model_filename)\n",
    "\n",
    "print(f\"MLP model saved successfully at {model_filename}\")"
   ]
  },
  {
   "cell_type": "markdown",
   "metadata": {},
   "source": [
    "### Model 2: CNN"
   ]
  },
  {
   "cell_type": "markdown",
   "metadata": {},
   "source": [
    "#### Define the CNN Architecture"
   ]
  },
  {
   "cell_type": "code",
   "execution_count": null,
   "metadata": {},
   "outputs": [
    {
     "data": {
      "text/html": [
       "<pre style=\"white-space:pre;overflow-x:auto;line-height:normal;font-family:Menlo,'DejaVu Sans Mono',consolas,'Courier New',monospace\"><span style=\"font-weight: bold\">Model: \"sequential\"</span>\n",
       "</pre>\n"
      ],
      "text/plain": [
       "\u001b[1mModel: \"sequential\"\u001b[0m\n"
      ]
     },
     "metadata": {},
     "output_type": "display_data"
    },
    {
     "data": {
      "text/html": [
       "<pre style=\"white-space:pre;overflow-x:auto;line-height:normal;font-family:Menlo,'DejaVu Sans Mono',consolas,'Courier New',monospace\">┏━━━━━━━━━━━━━━━━━━━━━━━━━━━━━━━━━┳━━━━━━━━━━━━━━━━━━━━━━━━┳━━━━━━━━━━━━━━━┓\n",
       "┃<span style=\"font-weight: bold\"> Layer (type)                    </span>┃<span style=\"font-weight: bold\"> Output Shape           </span>┃<span style=\"font-weight: bold\">       Param # </span>┃\n",
       "┡━━━━━━━━━━━━━━━━━━━━━━━━━━━━━━━━━╇━━━━━━━━━━━━━━━━━━━━━━━━╇━━━━━━━━━━━━━━━┩\n",
       "│ conv2d (<span style=\"color: #0087ff; text-decoration-color: #0087ff\">Conv2D</span>)                 │ (<span style=\"color: #00d7ff; text-decoration-color: #00d7ff\">None</span>, <span style=\"color: #00af00; text-decoration-color: #00af00\">126</span>, <span style=\"color: #00af00; text-decoration-color: #00af00\">1291</span>, <span style=\"color: #00af00; text-decoration-color: #00af00\">64</span>)  │           <span style=\"color: #00af00; text-decoration-color: #00af00\">640</span> │\n",
       "├─────────────────────────────────┼────────────────────────┼───────────────┤\n",
       "│ batch_normalization             │ (<span style=\"color: #00d7ff; text-decoration-color: #00d7ff\">None</span>, <span style=\"color: #00af00; text-decoration-color: #00af00\">126</span>, <span style=\"color: #00af00; text-decoration-color: #00af00\">1291</span>, <span style=\"color: #00af00; text-decoration-color: #00af00\">64</span>)  │           <span style=\"color: #00af00; text-decoration-color: #00af00\">256</span> │\n",
       "│ (<span style=\"color: #0087ff; text-decoration-color: #0087ff\">BatchNormalization</span>)            │                        │               │\n",
       "├─────────────────────────────────┼────────────────────────┼───────────────┤\n",
       "│ max_pooling2d (<span style=\"color: #0087ff; text-decoration-color: #0087ff\">MaxPooling2D</span>)    │ (<span style=\"color: #00d7ff; text-decoration-color: #00d7ff\">None</span>, <span style=\"color: #00af00; text-decoration-color: #00af00\">63</span>, <span style=\"color: #00af00; text-decoration-color: #00af00\">645</span>, <span style=\"color: #00af00; text-decoration-color: #00af00\">64</span>)    │             <span style=\"color: #00af00; text-decoration-color: #00af00\">0</span> │\n",
       "├─────────────────────────────────┼────────────────────────┼───────────────┤\n",
       "│ conv2d_1 (<span style=\"color: #0087ff; text-decoration-color: #0087ff\">Conv2D</span>)               │ (<span style=\"color: #00d7ff; text-decoration-color: #00d7ff\">None</span>, <span style=\"color: #00af00; text-decoration-color: #00af00\">61</span>, <span style=\"color: #00af00; text-decoration-color: #00af00\">643</span>, <span style=\"color: #00af00; text-decoration-color: #00af00\">128</span>)   │        <span style=\"color: #00af00; text-decoration-color: #00af00\">73,856</span> │\n",
       "├─────────────────────────────────┼────────────────────────┼───────────────┤\n",
       "│ batch_normalization_1           │ (<span style=\"color: #00d7ff; text-decoration-color: #00d7ff\">None</span>, <span style=\"color: #00af00; text-decoration-color: #00af00\">61</span>, <span style=\"color: #00af00; text-decoration-color: #00af00\">643</span>, <span style=\"color: #00af00; text-decoration-color: #00af00\">128</span>)   │           <span style=\"color: #00af00; text-decoration-color: #00af00\">512</span> │\n",
       "│ (<span style=\"color: #0087ff; text-decoration-color: #0087ff\">BatchNormalization</span>)            │                        │               │\n",
       "├─────────────────────────────────┼────────────────────────┼───────────────┤\n",
       "│ max_pooling2d_1 (<span style=\"color: #0087ff; text-decoration-color: #0087ff\">MaxPooling2D</span>)  │ (<span style=\"color: #00d7ff; text-decoration-color: #00d7ff\">None</span>, <span style=\"color: #00af00; text-decoration-color: #00af00\">30</span>, <span style=\"color: #00af00; text-decoration-color: #00af00\">321</span>, <span style=\"color: #00af00; text-decoration-color: #00af00\">128</span>)   │             <span style=\"color: #00af00; text-decoration-color: #00af00\">0</span> │\n",
       "├─────────────────────────────────┼────────────────────────┼───────────────┤\n",
       "│ conv2d_2 (<span style=\"color: #0087ff; text-decoration-color: #0087ff\">Conv2D</span>)               │ (<span style=\"color: #00d7ff; text-decoration-color: #00d7ff\">None</span>, <span style=\"color: #00af00; text-decoration-color: #00af00\">28</span>, <span style=\"color: #00af00; text-decoration-color: #00af00\">319</span>, <span style=\"color: #00af00; text-decoration-color: #00af00\">256</span>)   │       <span style=\"color: #00af00; text-decoration-color: #00af00\">295,168</span> │\n",
       "├─────────────────────────────────┼────────────────────────┼───────────────┤\n",
       "│ batch_normalization_2           │ (<span style=\"color: #00d7ff; text-decoration-color: #00d7ff\">None</span>, <span style=\"color: #00af00; text-decoration-color: #00af00\">28</span>, <span style=\"color: #00af00; text-decoration-color: #00af00\">319</span>, <span style=\"color: #00af00; text-decoration-color: #00af00\">256</span>)   │         <span style=\"color: #00af00; text-decoration-color: #00af00\">1,024</span> │\n",
       "│ (<span style=\"color: #0087ff; text-decoration-color: #0087ff\">BatchNormalization</span>)            │                        │               │\n",
       "├─────────────────────────────────┼────────────────────────┼───────────────┤\n",
       "│ max_pooling2d_2 (<span style=\"color: #0087ff; text-decoration-color: #0087ff\">MaxPooling2D</span>)  │ (<span style=\"color: #00d7ff; text-decoration-color: #00d7ff\">None</span>, <span style=\"color: #00af00; text-decoration-color: #00af00\">14</span>, <span style=\"color: #00af00; text-decoration-color: #00af00\">159</span>, <span style=\"color: #00af00; text-decoration-color: #00af00\">256</span>)   │             <span style=\"color: #00af00; text-decoration-color: #00af00\">0</span> │\n",
       "├─────────────────────────────────┼────────────────────────┼───────────────┤\n",
       "│ conv2d_3 (<span style=\"color: #0087ff; text-decoration-color: #0087ff\">Conv2D</span>)               │ (<span style=\"color: #00d7ff; text-decoration-color: #00d7ff\">None</span>, <span style=\"color: #00af00; text-decoration-color: #00af00\">12</span>, <span style=\"color: #00af00; text-decoration-color: #00af00\">157</span>, <span style=\"color: #00af00; text-decoration-color: #00af00\">512</span>)   │     <span style=\"color: #00af00; text-decoration-color: #00af00\">1,180,160</span> │\n",
       "├─────────────────────────────────┼────────────────────────┼───────────────┤\n",
       "│ batch_normalization_3           │ (<span style=\"color: #00d7ff; text-decoration-color: #00d7ff\">None</span>, <span style=\"color: #00af00; text-decoration-color: #00af00\">12</span>, <span style=\"color: #00af00; text-decoration-color: #00af00\">157</span>, <span style=\"color: #00af00; text-decoration-color: #00af00\">512</span>)   │         <span style=\"color: #00af00; text-decoration-color: #00af00\">2,048</span> │\n",
       "│ (<span style=\"color: #0087ff; text-decoration-color: #0087ff\">BatchNormalization</span>)            │                        │               │\n",
       "├─────────────────────────────────┼────────────────────────┼───────────────┤\n",
       "│ max_pooling2d_3 (<span style=\"color: #0087ff; text-decoration-color: #0087ff\">MaxPooling2D</span>)  │ (<span style=\"color: #00d7ff; text-decoration-color: #00d7ff\">None</span>, <span style=\"color: #00af00; text-decoration-color: #00af00\">6</span>, <span style=\"color: #00af00; text-decoration-color: #00af00\">78</span>, <span style=\"color: #00af00; text-decoration-color: #00af00\">512</span>)     │             <span style=\"color: #00af00; text-decoration-color: #00af00\">0</span> │\n",
       "├─────────────────────────────────┼────────────────────────┼───────────────┤\n",
       "│ global_average_pooling2d        │ (<span style=\"color: #00d7ff; text-decoration-color: #00d7ff\">None</span>, <span style=\"color: #00af00; text-decoration-color: #00af00\">512</span>)            │             <span style=\"color: #00af00; text-decoration-color: #00af00\">0</span> │\n",
       "│ (<span style=\"color: #0087ff; text-decoration-color: #0087ff\">GlobalAveragePooling2D</span>)        │                        │               │\n",
       "├─────────────────────────────────┼────────────────────────┼───────────────┤\n",
       "│ dense (<span style=\"color: #0087ff; text-decoration-color: #0087ff\">Dense</span>)                   │ (<span style=\"color: #00d7ff; text-decoration-color: #00d7ff\">None</span>, <span style=\"color: #00af00; text-decoration-color: #00af00\">512</span>)            │       <span style=\"color: #00af00; text-decoration-color: #00af00\">262,656</span> │\n",
       "├─────────────────────────────────┼────────────────────────┼───────────────┤\n",
       "│ dropout (<span style=\"color: #0087ff; text-decoration-color: #0087ff\">Dropout</span>)               │ (<span style=\"color: #00d7ff; text-decoration-color: #00d7ff\">None</span>, <span style=\"color: #00af00; text-decoration-color: #00af00\">512</span>)            │             <span style=\"color: #00af00; text-decoration-color: #00af00\">0</span> │\n",
       "├─────────────────────────────────┼────────────────────────┼───────────────┤\n",
       "│ dense_1 (<span style=\"color: #0087ff; text-decoration-color: #0087ff\">Dense</span>)                 │ (<span style=\"color: #00d7ff; text-decoration-color: #00d7ff\">None</span>, <span style=\"color: #00af00; text-decoration-color: #00af00\">256</span>)            │       <span style=\"color: #00af00; text-decoration-color: #00af00\">131,328</span> │\n",
       "├─────────────────────────────────┼────────────────────────┼───────────────┤\n",
       "│ dropout_1 (<span style=\"color: #0087ff; text-decoration-color: #0087ff\">Dropout</span>)             │ (<span style=\"color: #00d7ff; text-decoration-color: #00d7ff\">None</span>, <span style=\"color: #00af00; text-decoration-color: #00af00\">256</span>)            │             <span style=\"color: #00af00; text-decoration-color: #00af00\">0</span> │\n",
       "├─────────────────────────────────┼────────────────────────┼───────────────┤\n",
       "│ dense_2 (<span style=\"color: #0087ff; text-decoration-color: #0087ff\">Dense</span>)                 │ (<span style=\"color: #00d7ff; text-decoration-color: #00d7ff\">None</span>, <span style=\"color: #00af00; text-decoration-color: #00af00\">10</span>)             │         <span style=\"color: #00af00; text-decoration-color: #00af00\">2,570</span> │\n",
       "└─────────────────────────────────┴────────────────────────┴───────────────┘\n",
       "</pre>\n"
      ],
      "text/plain": [
       "┏━━━━━━━━━━━━━━━━━━━━━━━━━━━━━━━━━┳━━━━━━━━━━━━━━━━━━━━━━━━┳━━━━━━━━━━━━━━━┓\n",
       "┃\u001b[1m \u001b[0m\u001b[1mLayer (type)                   \u001b[0m\u001b[1m \u001b[0m┃\u001b[1m \u001b[0m\u001b[1mOutput Shape          \u001b[0m\u001b[1m \u001b[0m┃\u001b[1m \u001b[0m\u001b[1m      Param #\u001b[0m\u001b[1m \u001b[0m┃\n",
       "┡━━━━━━━━━━━━━━━━━━━━━━━━━━━━━━━━━╇━━━━━━━━━━━━━━━━━━━━━━━━╇━━━━━━━━━━━━━━━┩\n",
       "│ conv2d (\u001b[38;5;33mConv2D\u001b[0m)                 │ (\u001b[38;5;45mNone\u001b[0m, \u001b[38;5;34m126\u001b[0m, \u001b[38;5;34m1291\u001b[0m, \u001b[38;5;34m64\u001b[0m)  │           \u001b[38;5;34m640\u001b[0m │\n",
       "├─────────────────────────────────┼────────────────────────┼───────────────┤\n",
       "│ batch_normalization             │ (\u001b[38;5;45mNone\u001b[0m, \u001b[38;5;34m126\u001b[0m, \u001b[38;5;34m1291\u001b[0m, \u001b[38;5;34m64\u001b[0m)  │           \u001b[38;5;34m256\u001b[0m │\n",
       "│ (\u001b[38;5;33mBatchNormalization\u001b[0m)            │                        │               │\n",
       "├─────────────────────────────────┼────────────────────────┼───────────────┤\n",
       "│ max_pooling2d (\u001b[38;5;33mMaxPooling2D\u001b[0m)    │ (\u001b[38;5;45mNone\u001b[0m, \u001b[38;5;34m63\u001b[0m, \u001b[38;5;34m645\u001b[0m, \u001b[38;5;34m64\u001b[0m)    │             \u001b[38;5;34m0\u001b[0m │\n",
       "├─────────────────────────────────┼────────────────────────┼───────────────┤\n",
       "│ conv2d_1 (\u001b[38;5;33mConv2D\u001b[0m)               │ (\u001b[38;5;45mNone\u001b[0m, \u001b[38;5;34m61\u001b[0m, \u001b[38;5;34m643\u001b[0m, \u001b[38;5;34m128\u001b[0m)   │        \u001b[38;5;34m73,856\u001b[0m │\n",
       "├─────────────────────────────────┼────────────────────────┼───────────────┤\n",
       "│ batch_normalization_1           │ (\u001b[38;5;45mNone\u001b[0m, \u001b[38;5;34m61\u001b[0m, \u001b[38;5;34m643\u001b[0m, \u001b[38;5;34m128\u001b[0m)   │           \u001b[38;5;34m512\u001b[0m │\n",
       "│ (\u001b[38;5;33mBatchNormalization\u001b[0m)            │                        │               │\n",
       "├─────────────────────────────────┼────────────────────────┼───────────────┤\n",
       "│ max_pooling2d_1 (\u001b[38;5;33mMaxPooling2D\u001b[0m)  │ (\u001b[38;5;45mNone\u001b[0m, \u001b[38;5;34m30\u001b[0m, \u001b[38;5;34m321\u001b[0m, \u001b[38;5;34m128\u001b[0m)   │             \u001b[38;5;34m0\u001b[0m │\n",
       "├─────────────────────────────────┼────────────────────────┼───────────────┤\n",
       "│ conv2d_2 (\u001b[38;5;33mConv2D\u001b[0m)               │ (\u001b[38;5;45mNone\u001b[0m, \u001b[38;5;34m28\u001b[0m, \u001b[38;5;34m319\u001b[0m, \u001b[38;5;34m256\u001b[0m)   │       \u001b[38;5;34m295,168\u001b[0m │\n",
       "├─────────────────────────────────┼────────────────────────┼───────────────┤\n",
       "│ batch_normalization_2           │ (\u001b[38;5;45mNone\u001b[0m, \u001b[38;5;34m28\u001b[0m, \u001b[38;5;34m319\u001b[0m, \u001b[38;5;34m256\u001b[0m)   │         \u001b[38;5;34m1,024\u001b[0m │\n",
       "│ (\u001b[38;5;33mBatchNormalization\u001b[0m)            │                        │               │\n",
       "├─────────────────────────────────┼────────────────────────┼───────────────┤\n",
       "│ max_pooling2d_2 (\u001b[38;5;33mMaxPooling2D\u001b[0m)  │ (\u001b[38;5;45mNone\u001b[0m, \u001b[38;5;34m14\u001b[0m, \u001b[38;5;34m159\u001b[0m, \u001b[38;5;34m256\u001b[0m)   │             \u001b[38;5;34m0\u001b[0m │\n",
       "├─────────────────────────────────┼────────────────────────┼───────────────┤\n",
       "│ conv2d_3 (\u001b[38;5;33mConv2D\u001b[0m)               │ (\u001b[38;5;45mNone\u001b[0m, \u001b[38;5;34m12\u001b[0m, \u001b[38;5;34m157\u001b[0m, \u001b[38;5;34m512\u001b[0m)   │     \u001b[38;5;34m1,180,160\u001b[0m │\n",
       "├─────────────────────────────────┼────────────────────────┼───────────────┤\n",
       "│ batch_normalization_3           │ (\u001b[38;5;45mNone\u001b[0m, \u001b[38;5;34m12\u001b[0m, \u001b[38;5;34m157\u001b[0m, \u001b[38;5;34m512\u001b[0m)   │         \u001b[38;5;34m2,048\u001b[0m │\n",
       "│ (\u001b[38;5;33mBatchNormalization\u001b[0m)            │                        │               │\n",
       "├─────────────────────────────────┼────────────────────────┼───────────────┤\n",
       "│ max_pooling2d_3 (\u001b[38;5;33mMaxPooling2D\u001b[0m)  │ (\u001b[38;5;45mNone\u001b[0m, \u001b[38;5;34m6\u001b[0m, \u001b[38;5;34m78\u001b[0m, \u001b[38;5;34m512\u001b[0m)     │             \u001b[38;5;34m0\u001b[0m │\n",
       "├─────────────────────────────────┼────────────────────────┼───────────────┤\n",
       "│ global_average_pooling2d        │ (\u001b[38;5;45mNone\u001b[0m, \u001b[38;5;34m512\u001b[0m)            │             \u001b[38;5;34m0\u001b[0m │\n",
       "│ (\u001b[38;5;33mGlobalAveragePooling2D\u001b[0m)        │                        │               │\n",
       "├─────────────────────────────────┼────────────────────────┼───────────────┤\n",
       "│ dense (\u001b[38;5;33mDense\u001b[0m)                   │ (\u001b[38;5;45mNone\u001b[0m, \u001b[38;5;34m512\u001b[0m)            │       \u001b[38;5;34m262,656\u001b[0m │\n",
       "├─────────────────────────────────┼────────────────────────┼───────────────┤\n",
       "│ dropout (\u001b[38;5;33mDropout\u001b[0m)               │ (\u001b[38;5;45mNone\u001b[0m, \u001b[38;5;34m512\u001b[0m)            │             \u001b[38;5;34m0\u001b[0m │\n",
       "├─────────────────────────────────┼────────────────────────┼───────────────┤\n",
       "│ dense_1 (\u001b[38;5;33mDense\u001b[0m)                 │ (\u001b[38;5;45mNone\u001b[0m, \u001b[38;5;34m256\u001b[0m)            │       \u001b[38;5;34m131,328\u001b[0m │\n",
       "├─────────────────────────────────┼────────────────────────┼───────────────┤\n",
       "│ dropout_1 (\u001b[38;5;33mDropout\u001b[0m)             │ (\u001b[38;5;45mNone\u001b[0m, \u001b[38;5;34m256\u001b[0m)            │             \u001b[38;5;34m0\u001b[0m │\n",
       "├─────────────────────────────────┼────────────────────────┼───────────────┤\n",
       "│ dense_2 (\u001b[38;5;33mDense\u001b[0m)                 │ (\u001b[38;5;45mNone\u001b[0m, \u001b[38;5;34m10\u001b[0m)             │         \u001b[38;5;34m2,570\u001b[0m │\n",
       "└─────────────────────────────────┴────────────────────────┴───────────────┘\n"
      ]
     },
     "metadata": {},
     "output_type": "display_data"
    },
    {
     "data": {
      "text/html": [
       "<pre style=\"white-space:pre;overflow-x:auto;line-height:normal;font-family:Menlo,'DejaVu Sans Mono',consolas,'Courier New',monospace\"><span style=\"font-weight: bold\"> Total params: </span><span style=\"color: #00af00; text-decoration-color: #00af00\">1,950,218</span> (7.44 MB)\n",
       "</pre>\n"
      ],
      "text/plain": [
       "\u001b[1m Total params: \u001b[0m\u001b[38;5;34m1,950,218\u001b[0m (7.44 MB)\n"
      ]
     },
     "metadata": {},
     "output_type": "display_data"
    },
    {
     "data": {
      "text/html": [
       "<pre style=\"white-space:pre;overflow-x:auto;line-height:normal;font-family:Menlo,'DejaVu Sans Mono',consolas,'Courier New',monospace\"><span style=\"font-weight: bold\"> Trainable params: </span><span style=\"color: #00af00; text-decoration-color: #00af00\">1,948,298</span> (7.43 MB)\n",
       "</pre>\n"
      ],
      "text/plain": [
       "\u001b[1m Trainable params: \u001b[0m\u001b[38;5;34m1,948,298\u001b[0m (7.43 MB)\n"
      ]
     },
     "metadata": {},
     "output_type": "display_data"
    },
    {
     "data": {
      "text/html": [
       "<pre style=\"white-space:pre;overflow-x:auto;line-height:normal;font-family:Menlo,'DejaVu Sans Mono',consolas,'Courier New',monospace\"><span style=\"font-weight: bold\"> Non-trainable params: </span><span style=\"color: #00af00; text-decoration-color: #00af00\">1,920</span> (7.50 KB)\n",
       "</pre>\n"
      ],
      "text/plain": [
       "\u001b[1m Non-trainable params: \u001b[0m\u001b[38;5;34m1,920\u001b[0m (7.50 KB)\n"
      ]
     },
     "metadata": {},
     "output_type": "display_data"
    }
   ],
   "source": [
    "# Module 6.1: Define CNN Architecture\n",
    "\n",
    "def build_cnn_model(input_shape):\n",
    "    \"\"\"\n",
    "    Build and compile a CNN model for spectrogram classification.\n",
    "    \n",
    "    Args:\n",
    "    input_shape (tuple): Shape of input spectrograms (height, width, channels).\n",
    "        \n",
    "    Returns:\n",
    "    model: Compiled CNN model.\n",
    "    \"\"\"\n",
    "    model = Sequential([\n",
    "        # Conv Block 1\n",
    "        Conv2D(64, (3, 3), activation='relu', input_shape=input_shape),\n",
    "        BatchNormalization(),\n",
    "        MaxPooling2D((2, 2)),\n",
    "        \n",
    "        # Conv Block 2\n",
    "        Conv2D(128, (3, 3), activation='relu'),\n",
    "        BatchNormalization(),\n",
    "        MaxPooling2D((2, 2)),\n",
    "        \n",
    "        # Conv Block 3\n",
    "        Conv2D(256, (3, 3), activation='relu'),\n",
    "        BatchNormalization(),\n",
    "        MaxPooling2D((2, 2)),\n",
    "        \n",
    "        # Conv Block 4\n",
    "        Conv2D(512, (3, 3), activation='relu'),\n",
    "        BatchNormalization(),\n",
    "        MaxPooling2D((2, 2)),\n",
    "        \n",
    "        # Global Average Pooling\n",
    "        GlobalAveragePooling2D(),\n",
    "        \n",
    "        # Dense Layers\n",
    "        Dense(512, activation='relu'),\n",
    "        Dropout(0.5),\n",
    "        Dense(256, activation='relu'),\n",
    "        Dropout(0.5),\n",
    "        Dense(10, activation='softmax')  # 10 genres\n",
    "    ])\n",
    "    \n",
    "    model.compile(optimizer=Adam(learning_rate=0.0001),\n",
    "              loss='categorical_crossentropy',\n",
    "              metrics=['accuracy'])\n",
    "    return model\n",
    "\n",
    "# Input shape: (128, 1293, 1)\n",
    "input_shape_cnn = (128, 1293, 1)\n",
    "cnn_model = build_cnn_model(input_shape_cnn)\n",
    "\n",
    "# Print model summary\n",
    "cnn_model.summary()"
   ]
  },
  {
   "cell_type": "markdown",
   "metadata": {},
   "source": [
    "#### Train the CNN Model"
   ]
  },
  {
   "cell_type": "code",
   "execution_count": null,
   "metadata": {},
   "outputs": [],
   "source": [
    "# Module 6.2.2: Train CNN Model\n",
    "\n",
    "# Train the model\n",
    "history_cnn = cnn_model.fit(\n",
    "    train_generator,\n",
    "    validation_data=test_generator,\n",
    "    epochs=50,\n",
    "    callbacks=[\n",
    "        tf.keras.callbacks.EarlyStopping(monitor='val_loss', patience=5, restore_best_weights=True)\n",
    "    ]\n",
    ")"
   ]
  },
  {
   "cell_type": "markdown",
   "metadata": {},
   "source": [
    "#### Evaluate the CNN Model"
   ]
  },
  {
   "cell_type": "code",
   "execution_count": 21,
   "metadata": {},
   "outputs": [
    {
     "name": "stdout",
     "output_type": "stream",
     "text": [
      "\u001b[1m38/38\u001b[0m \u001b[32m━━━━━━━━━━━━━━━━━━━━\u001b[0m\u001b[37m\u001b[0m \u001b[1m21s\u001b[0m 552ms/step - accuracy: 0.5247 - loss: 1.3397\n",
      "Test Accuracy (CNN): 55.71%\n"
     ]
    }
   ],
   "source": [
    "# Module 6.2.3: Evaluate CNN Model\n",
    "\n",
    "# Evaluate on test data\n",
    "test_loss_cnn, test_accuracy_cnn = cnn_model.evaluate(test_generator)\n",
    "print(f\"Test Accuracy (CNN): {test_accuracy_cnn * 100:.2f}%\")"
   ]
  },
  {
   "cell_type": "code",
   "execution_count": null,
   "metadata": {},
   "outputs": [],
   "source": [
    "# 6.2.3"
   ]
  },
  {
   "cell_type": "markdown",
   "metadata": {},
   "source": [
    "#### Generate Classification Report and Confusion Matrix"
   ]
  },
  {
   "cell_type": "code",
   "execution_count": null,
   "metadata": {},
   "outputs": [],
   "source": [
    "# 6.2.4"
   ]
  },
  {
   "cell_type": "markdown",
   "metadata": {},
   "source": [
    "## MODULE 7: Building An Ensemble"
   ]
  },
  {
   "cell_type": "markdown",
   "metadata": {},
   "source": [
    "### SUB-MODULE 7.1: Stacking Ensemble"
   ]
  },
  {
   "cell_type": "markdown",
   "metadata": {},
   "source": [
    "#### Load Pre-Trained Models"
   ]
  },
  {
   "cell_type": "code",
   "execution_count": 13,
   "metadata": {},
   "outputs": [
    {
     "name": "stderr",
     "output_type": "stream",
     "text": [
      "WARNING:absl:Compiled the loaded model, but the compiled metrics have yet to be built. `model.compile_metrics` will be empty until you train or evaluate the model.\n"
     ]
    }
   ],
   "source": [
    "# Define the path to the saved models\n",
    "model_dir = \"D:/COMPUTER SCIENCE/PYTHON/MACHINE LEARNING LAB/MINI PROJECT/GTZAN/models\"\n",
    "\n",
    "# Load traditional ML models (LR, RF, XGB, SVM)\n",
    "lr_model = joblib.load(os.path.join(model_dir, \"lr_model.joblib\"))\n",
    "rf_model = joblib.load(os.path.join(model_dir, \"rf_model.joblib\"))\n",
    "xgb_model = joblib.load(os.path.join(model_dir, \"xgb_model.joblib\"))\n",
    "svm_model = joblib.load(os.path.join(model_dir, \"svm_model.joblib\"))\n",
    "\n",
    "# Load deep learning models (MLP)\n",
    "mlp_model = load_model(os.path.join(model_dir, \"mlp_model.h5\"))"
   ]
  },
  {
   "cell_type": "markdown",
   "metadata": {},
   "source": [
    "### Generate Base Model Predictions"
   ]
  },
  {
   "cell_type": "markdown",
   "metadata": {},
   "source": [
    "#### Debug Predictions"
   ]
  },
  {
   "cell_type": "markdown",
   "metadata": {},
   "source": [
    "This function is necessary as each model gives predictions in different formats. Some may prduce it as one hot encoded while some may produce as integer label encoded. While all ML models were producing 2 dimensional vector outputs, the MLP was producing  3 dimensional outputs. This function helped handle the dimensionality issue."
   ]
  },
  {
   "cell_type": "code",
   "execution_count": 73,
   "metadata": {},
   "outputs": [
    {
     "name": "stdout",
     "output_type": "stream",
     "text": [
      "Model 0 prediction shape: (4795, 10), type: <class 'numpy.ndarray'>\n",
      "Model 1 prediction shape: (4795, 10), type: <class 'numpy.ndarray'>\n",
      "Model 2 prediction shape: (4795, 10), type: <class 'numpy.ndarray'>\n",
      "Model 3 prediction shape: (4795, 10), type: <class 'numpy.ndarray'>\n",
      "\u001b[1m150/150\u001b[0m \u001b[32m━━━━━━━━━━━━━━━━━━━━\u001b[0m\u001b[37m\u001b[0m \u001b[1m0s\u001b[0m 819us/step\n",
      "Model 4 prediction shape: (4795, 10, 2), type: <class 'numpy.ndarray'>\n"
     ]
    }
   ],
   "source": [
    "def debug_predictions(models, X):\n",
    "    \"\"\"\n",
    "    Debug the predictions from each model to ensure consistency.\n",
    "    \n",
    "    Args:\n",
    "        models (list): List of pre-trained models.\n",
    "        X (np.array): Input data (features).\n",
    "    \"\"\"\n",
    "    for i, model in enumerate(models):\n",
    "        if hasattr(model, 'predict_proba'):  # Models with `predict_proba`\n",
    "            pred = model.predict_proba(X)\n",
    "        elif hasattr(model, 'predict'):  # Models with only `predict`\n",
    "            pred = model.predict(X)\n",
    "            if not np.issubdtype(pred.dtype, np.integer):  # Ensure integer class labels\n",
    "                pred = pred.astype(int)\n",
    "            pred = np.eye(len(np.unique(pred)))[pred]  # Convert to one-hot encoding\n",
    "        elif callable(getattr(model, 'predict', None)):  # Keras models (e.g., MLP)\n",
    "            pred = model.predict(X)\n",
    "        \n",
    "        print(f\"Model {i} prediction shape: {pred.shape}, type: {type(pred)}\")\n",
    "\n",
    "# Debug predictions\n",
    "debug_predictions([lr_model, rf_model, xgb_model, svm_model, mlp_model], X_train_ml)"
   ]
  },
  {
   "cell_type": "markdown",
   "metadata": {},
   "source": [
    "#### Helper Function to Generate Predictions"
   ]
  },
  {
   "cell_type": "markdown",
   "metadata": {},
   "source": [
    "This fuction will be used to generate predictions on which the meta model will then be trained."
   ]
  },
  {
   "cell_type": "code",
   "execution_count": 86,
   "metadata": {},
   "outputs": [],
   "source": [
    "def get_base_predictions(models, X):\n",
    "    \"\"\"\n",
    "    Generate predictions from a list of base models.\n",
    "    \n",
    "    Args:\n",
    "        models (list): List of pre-trained models.\n",
    "        X (np.array): Input data (features).\n",
    "        \n",
    "    Returns:\n",
    "        np.array: Stacked predictions from all base models.\n",
    "    \"\"\"\n",
    "    predictions = []\n",
    "    for i, model in enumerate(models):\n",
    "        if model == mlp_model:  # Explicitly handle the MLP model\n",
    "            pred = model.predict(X)\n",
    "            print(f\"Before reshaping - Model {i} prediction shape: {pred.shape}\")\n",
    "            if len(pred.shape) > 2:  # Flatten extra dimensions if needed\n",
    "                pred = pred.reshape(pred.shape[0], -1)\n",
    "            # Ensure MLP predictions have the same number of features as other models\n",
    "            pred = pred[:, :10]  # Keep only the first 10 features (num_classes)\n",
    "            print(f\"After reshaping - Model {i} prediction shape: {pred.shape}\")\n",
    "        elif hasattr(model, 'predict_proba'):  # Models with `predict_proba`\n",
    "            pred = model.predict_proba(X)\n",
    "        elif hasattr(model, 'predict'):  # Models with only `predict`\n",
    "            pred = model.predict(X)\n",
    "            if not np.issubdtype(pred.dtype, np.integer):  # Ensure integer class labels\n",
    "                pred = pred.astype(int)\n",
    "            pred = np.eye(len(np.unique(pred)))[pred]  # Convert to one-hot encoding\n",
    "        else:\n",
    "            raise ValueError(f\"Unsupported model type: {type(model)}\")\n",
    "        \n",
    "        # Ensure predictions are 2D arrays\n",
    "        if len(pred.shape) == 1:\n",
    "            pred = pred.reshape(-1, 1)  # Reshape to (num_samples, 1) if necessary\n",
    "        \n",
    "        predictions.append(pred)\n",
    "    \n",
    "    # Stack predictions horizontally\n",
    "    return np.hstack(predictions)"
   ]
  },
  {
   "cell_type": "markdown",
   "metadata": {},
   "source": [
    "#### Generate Predictions"
   ]
  },
  {
   "cell_type": "code",
   "execution_count": 87,
   "metadata": {},
   "outputs": [
    {
     "name": "stdout",
     "output_type": "stream",
     "text": [
      "\u001b[1m150/150\u001b[0m \u001b[32m━━━━━━━━━━━━━━━━━━━━\u001b[0m\u001b[37m\u001b[0m \u001b[1m0s\u001b[0m 824us/step\n",
      "Before reshaping - Model 4 prediction shape: (4795, 10)\n",
      "After reshaping - Model 4 prediction shape: (4795, 10)\n",
      "\u001b[1m38/38\u001b[0m \u001b[32m━━━━━━━━━━━━━━━━━━━━\u001b[0m\u001b[37m\u001b[0m \u001b[1m0s\u001b[0m 1ms/step \n",
      "Before reshaping - Model 4 prediction shape: (1199, 10)\n",
      "After reshaping - Model 4 prediction shape: (1199, 10)\n",
      "Meta-feature shape (train): (4795, 50)\n",
      "Meta-feature shape (test): (1199, 50)\n"
     ]
    }
   ],
   "source": [
    "# List of base models\n",
    "base_models = [lr_model, rf_model, xgb_model, svm_model, mlp_model]\n",
    "\n",
    "# Generate predictions for training and test sets\n",
    "X_train_meta = get_base_predictions(base_models, X_train_ml)\n",
    "X_test_meta = get_base_predictions(base_models, X_test_ml)\n",
    "\n",
    "print(f\"Meta-feature shape (train): {X_train_meta.shape}\")\n",
    "print(f\"Meta-feature shape (test): {X_test_meta.shape}\")"
   ]
  },
  {
   "cell_type": "markdown",
   "metadata": {},
   "source": [
    "#### Train the Meta Model"
   ]
  },
  {
   "cell_type": "code",
   "execution_count": 88,
   "metadata": {},
   "outputs": [
    {
     "name": "stdout",
     "output_type": "stream",
     "text": [
      "Stacking Ensemble Accuracy: 99.50%\n"
     ]
    }
   ],
   "source": [
    "# Train the meta-model\n",
    "meta_model = LogisticRegression()\n",
    "meta_model.fit(X_train_meta, y_train_ml)\n",
    "\n",
    "# Evaluate the meta-model on the test set\n",
    "y_pred_meta = meta_model.predict(X_test_meta)\n",
    "accuracy_meta = accuracy_score(y_test_ml, y_pred_meta)\n",
    "print(f\"Stacking Ensemble Accuracy: {accuracy_meta * 100:.2f}%\")"
   ]
  },
  {
   "cell_type": "markdown",
   "metadata": {},
   "source": [
    "#### Model Evaluation"
   ]
  },
  {
   "cell_type": "code",
   "execution_count": 92,
   "metadata": {},
   "outputs": [
    {
     "data": {
      "image/png": "[encoded data removed]",
      "text/plain": [
       "<Figure size 600x400 with 2 Axes>"
      ]
     },
     "metadata": {},
     "output_type": "display_data"
    }
   ],
   "source": [
    "# Compute the confusion matrix\n",
    "cm_meta = confusion_matrix(y_test_ml, y_pred_meta)\n",
    "\n",
    "# Plot the confusion matrix\n",
    "plt.figure(figsize=(6, 4))\n",
    "sns.heatmap(cm_meta, annot=True, fmt='d', cmap='RdPu',\n",
    "            xticklabels=label_encoder_ml.classes_, yticklabels=label_encoder_ml.classes_)\n",
    "plt.ylabel('True Label')\n",
    "plt.xlabel('Predicted Label')\n",
    "plt.title('Confusion Matrix - Stacking Ensemble')\n",
    "plt.show()"
   ]
  },
  {
   "cell_type": "markdown",
   "metadata": {},
   "source": [
    "#### Saving the Meta Model"
   ]
  },
  {
   "cell_type": "code",
   "execution_count": 93,
   "metadata": {},
   "outputs": [
    {
     "name": "stdout",
     "output_type": "stream",
     "text": [
      "Stacking meta-model saved successfully!\n"
     ]
    }
   ],
   "source": [
    "# Define the path to the models directory\n",
    "models_dir = r\"D:\\COMPUTER SCIENCE\\PYTHON\\MACHINE LEARNING LAB\\MINI PROJECT\\GTZAN\\models\"\n",
    "\n",
    "# Create the directory if it doesn't exist\n",
    "os.makedirs(models_dir, exist_ok=True)\n",
    "\n",
    "# Save the stacking meta-model\n",
    "stacking_meta_model_path = os.path.join(models_dir, \"stacking_meta_model.joblib\")\n",
    "joblib.dump(meta_model, stacking_meta_model_path)\n",
    "\n",
    "print(\"Stacking meta-model saved successfully!\")"
   ]
  },
  {
   "cell_type": "code",
   "execution_count": null,
   "metadata": {},
   "outputs": [],
   "source": [
    "# X_train_ml, X_test_ml, y_train_ml, y_test_ml = train_test_split(\n",
    "#     X_ml, y_ml_encoded, test_size=0.2, stratify=y_ml_encoded, random_state=42\n",
    "# )"
   ]
  },
  {
   "cell_type": "markdown",
   "metadata": {},
   "source": [
    "### SUB-MODULE 7.2: Voting Ensemble"
   ]
  },
  {
   "cell_type": "markdown",
   "metadata": {},
   "source": [
    "#### Define the Voting Ensemble"
   ]
  },
  {
   "cell_type": "markdown",
   "metadata": {},
   "source": [
    "#### Train the Voting Ensemble"
   ]
  },
  {
   "cell_type": "markdown",
   "metadata": {},
   "source": [
    "Wrapping the model"
   ]
  },
  {
   "cell_type": "markdown",
   "metadata": {},
   "source": [
    "voting ensemble"
   ]
  },
  {
   "cell_type": "markdown",
   "metadata": {},
   "source": [
    "Train and Evaluate"
   ]
  },
  {
   "cell_type": "markdown",
   "metadata": {},
   "source": [
    "==============================================================================================="
   ]
  },
  {
   "cell_type": "code",
   "execution_count": 135,
   "metadata": {},
   "outputs": [],
   "source": [
    "def get_predictions(models, X):\n",
    "    \"\"\"\n",
    "    Generate predictions from a list of models.\n",
    "    \n",
    "    Args:\n",
    "        models (list): List of pre-trained models (excluding MLP).\n",
    "        X (np.array): Input data (features).\n",
    "        \n",
    "    Returns:\n",
    "        np.array: Array of predictions from all models (shape: [num_models, num_samples]).\n",
    "    \"\"\"\n",
    "    all_predictions = []\n",
    "    for i, model in enumerate(models):\n",
    "        if hasattr(model, 'predict_proba'):  # Models with `predict_proba`\n",
    "            pred = model.predict(X)\n",
    "        elif hasattr(model, 'predict'):  # Models with only `predict`\n",
    "            pred = model.predict(X)\n",
    "            if not np.issubdtype(pred.dtype, np.integer):  # Ensure integer class labels\n",
    "                pred = pred.astype(int)\n",
    "        \n",
    "        # Ensure predictions are 1D arrays of integers\n",
    "        if len(pred.shape) > 1:\n",
    "            raise ValueError(f\"Unexpected prediction shape from model {i}: {pred.shape}. Ensure all predictions are 1D arrays.\")\n",
    "        \n",
    "        all_predictions.append(pred)\n",
    "    \n",
    "    return np.array(all_predictions)"
   ]
  },
  {
   "cell_type": "markdown",
   "metadata": {},
   "source": [
    "Combine the predictions from the other models with the preprocessed MLP predictions."
   ]
  },
  {
   "cell_type": "code",
   "execution_count": 136,
   "metadata": {},
   "outputs": [
    {
     "name": "stdout",
     "output_type": "stream",
     "text": [
      "Train predictions shape: (5, 4795)\n",
      "Test predictions shape: (5, 1199)\n"
     ]
    }
   ],
   "source": [
    "# Step 1: Define the list of models (excluding MLP)\n",
    "base_models = [lr_model, rf_model, xgb_model, svm_model]\n",
    "\n",
    "# Step 2: Generate predictions for the other models\n",
    "train_predictions = get_predictions(base_models, X_train_ml)\n",
    "test_predictions = get_predictions(base_models, X_test_ml)\n",
    "\n",
    "# Step 3: Add the preprocessed MLP predictions\n",
    "train_predictions = np.vstack([train_predictions, mlp_train_labels.reshape(1, -1)])\n",
    "test_predictions = np.vstack([test_predictions, mlp_test_labels.reshape(1, -1)])\n",
    "\n",
    "print(f\"Train predictions shape: {train_predictions.shape}\")\n",
    "print(f\"Test predictions shape: {test_predictions.shape}\")"
   ]
  },
  {
   "cell_type": "code",
   "execution_count": 137,
   "metadata": {},
   "outputs": [],
   "source": [
    "def hard_voting(predictions):\n",
    "    \"\"\"\n",
    "    Perform hard voting to combine predictions from multiple models.\n",
    "    \n",
    "    Args:\n",
    "        predictions (np.array): Array of predictions from all models (shape: [num_models, num_samples]).\n",
    "        \n",
    "    Returns:\n",
    "        np.array: Final predictions based on majority voting.\n",
    "    \"\"\"\n",
    "    from scipy.stats import mode\n",
    "    final_predictions, _ = mode(predictions, axis=0)\n",
    "    return final_predictions.ravel()  # Flatten the result\n",
    "\n",
    "# Perform hard voting\n",
    "y_train_pred = hard_voting(train_predictions)\n",
    "y_test_pred = hard_voting(test_predictions)"
   ]
  },
  {
   "cell_type": "code",
   "execution_count": 140,
   "metadata": {},
   "outputs": [
    {
     "name": "stdout",
     "output_type": "stream",
     "text": [
      "Training Accuracy (Hard Voting): 99.98%\n",
      "Test Accuracy (Hard Voting): 98.75%\n"
     ]
    },
    {
     "data": {
      "image/png": "[encoded data removed]",
      "text/plain": [
       "<Figure size 600x400 with 2 Axes>"
      ]
     },
     "metadata": {},
     "output_type": "display_data"
    }
   ],
   "source": [
    "# Evaluate the ensemble\n",
    "accuracy_train = accuracy_score(y_train_ml, y_train_pred)\n",
    "accuracy_test = accuracy_score(y_test_ml, y_test_pred)\n",
    "print(f\"Training Accuracy (Hard Voting): {accuracy_train * 100:.2f}%\")\n",
    "print(f\"Test Accuracy (Hard Voting): {accuracy_test * 100:.2f}%\")\n",
    "\n",
    "# Generate a confusion matrix\n",
    "cm_voting = confusion_matrix(y_test_ml, y_test_pred)\n",
    "plt.figure(figsize=(6, 4))\n",
    "sns.heatmap(cm_voting, annot=True, fmt='d', cmap='RdPu',\n",
    "            xticklabels=label_encoder_ml.classes_, yticklabels=label_encoder_ml.classes_)\n",
    "plt.ylabel('True Label')\n",
    "plt.xlabel('Predicted Label')\n",
    "plt.title('Confusion Matrix - Custom Voting Ensemble')\n",
    "plt.show()"
   ]
  },
  {
   "cell_type": "code",
   "execution_count": 141,
   "metadata": {},
   "outputs": [
    {
     "data": {
      "text/plain": [
       "['D:\\\\COMPUTER SCIENCE\\\\PYTHON\\\\MACHINE LEARNING LAB\\\\MINI PROJECT\\\\GTZAN\\\\models\\\\label_encoder_ml.joblib']"
      ]
     },
     "execution_count": 141,
     "metadata": {},
     "output_type": "execute_result"
    }
   ],
   "source": [
    "joblib.dump(label_encoder_ml, os.path.join(models_dir, \"label_encoder_ml.joblib\"))"
   ]
  },
  {
   "cell_type": "markdown",
   "metadata": {},
   "source": [
    "## MORE TRAINING LOGS "
   ]
  },
  {
   "cell_type": "code",
   "execution_count": null,
   "metadata": {},
   "outputs": [],
   "source": [
    "# Loading dataset from C:\\Users\\Kewal\\Desktop\\GTZAN\\Data\\genres_original...\n",
    "# Total files: 999\n",
    "# Dataset loaded in 0.01 seconds\n",
    "# Extracting features...\n",
    "# Total features after augmentation: 12987\n",
    "# Feature extraction completed in 12297.80 seconds\n",
    "# Train samples: 10389, Test samples: 2598\n",
    "# Training models...\n",
    "# Training SVM...\n",
    "# SVM - Accuracy: 0.9584, Training time: 1175.79 seconds\n",
    "# Training Random Forest...\n",
    "# Random Forest - Accuracy: 0.9607, Training time: 33.31 seconds\n",
    "# Training XGBoost...\n",
    "# XGBoost - Accuracy: 0.9719, Training time: 31.25 seconds\n",
    "# Training MLP...\n",
    "# MLP - Accuracy: 0.9473, Training time: 22.56 seconds\n",
    "# Training Gradient Boosting...\n",
    "# Gradient Boosting - Accuracy: 0.9681, Training time: 2665.00 seconds\n",
    "# Training Voting Ensemble...\n",
    "# Training Stacking Ensemble...\n",
    "# Voting Ensemble Accuracy: 0.9750\n",
    "# Stacking Ensemble Accuracy: 0.9731\n",
    "# Best Ensemble: Voting Ensemble with accuracy: 0.9750\n",
    "# Training specialized real-time model...\n",
    "# Real-time Model Accuracy: 0.9684\n",
    "# All models and preprocessing objects saved successfully!\n",
    "\n",
    "# Classification Report:\n",
    "#               precision    recall  f1-score   support\n",
    "\n",
    "#        Blues       0.98      0.99      0.99       260\n",
    "#    Classical       0.98      1.00      0.99       260\n",
    "#      Country       0.97      0.98      0.98       260\n",
    "#        Disco       0.95      0.96      0.95       260\n",
    "#       HipHop       0.99      0.98      0.98       260\n",
    "#         Jazz       0.98      0.99      0.99       258\n",
    "#        Metal       0.98      0.98      0.98       260\n",
    "#          Pop       0.99      0.97      0.98       260\n",
    "#       Reggae       0.98      0.96      0.97       260\n",
    "#         Rock       0.94      0.94      0.94       260\n",
    "\n",
    "#     accuracy                           0.97      2598\n",
    "#    macro avg       0.98      0.97      0.97      2598\n",
    "# weighted avg       0.98      0.97      0.97      2598\n",
    "\n",
    "# Total execution time: 51914.77 seconds"
   ]
  }
 ],
 "metadata": {
  "kernelspec": {
   "display_name": "Python 3",
   "language": "python",
   "name": "python3"
  },
  "language_info": {
   "codemirror_mode": {
    "name": "ipython",
    "version": 3
   },
   "file_extension": ".py",
   "mimetype": "text/x-python",
   "name": "python",
   "nbconvert_exporter": "python",
   "pygments_lexer": "ipython3",
   "version": "3.12.3"
  }
 },
 "nbformat": 4,
 "nbformat_minor": 2
}
